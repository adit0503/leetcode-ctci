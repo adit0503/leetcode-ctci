{
 "cells": [
  {
   "cell_type": "markdown",
   "metadata": {},
   "source": [
    "# Search and Sort\n",
    "\n",
    "#912. [Bubble Sort](#912a)\n",
    "#912. [Selection Sort](#912b)\n",
    "#912. [Merge Sort](#912c)"
   ]
  },
  {
   "cell_type": "code",
   "execution_count": null,
   "metadata": {},
   "outputs": [],
   "source": [
    "<a id=''></a>\n",
    "##\n",
    "####\n",
    "######"
   ]
  },
  {
   "cell_type": "markdown",
   "metadata": {},
   "source": [
    "<a id='912a'></a>\n",
    "## [912a. Bubble Sort](https://leetcode.com/problems/sort-an-array/)\n",
    "#### Given an array of integers nums, sort the array in ascending order.\n",
    "###### O(n2)"
   ]
  },
  {
   "cell_type": "code",
   "execution_count": null,
   "metadata": {},
   "outputs": [],
   "source": [
    "def sortArray(self, nums: List[int]) -> List[int]:\n",
    "\n",
    "    t = len(nums)-1\n",
    "    while(t>0):\n",
    "        for i in range(len(nums)-1):\n",
    "            if nums[i]>nums[i+1]:\n",
    "                temp = nums[i+1]\n",
    "                nums[i+1] = nums[i]\n",
    "                nums[i] = temp\n",
    "        t -= 1\n",
    "\n",
    "    return nums"
   ]
  },
  {
   "cell_type": "markdown",
   "metadata": {},
   "source": [
    "<a id='912b'></a>\n",
    "## [912b. Selection Sort](https://leetcode.com/problems/sort-an-array/)\n",
    "#### Given an array of integers nums, sort the array in ascending order.\n",
    "###### O(n2)"
   ]
  },
  {
   "cell_type": "code",
   "execution_count": null,
   "metadata": {},
   "outputs": [],
   "source": [
    "def sortArray(self, nums: List[int]) -> List[int]:\n",
    "\n",
    "    t = 0\n",
    "    while(t<len(nums)-1):\n",
    "        smallest_index = t\n",
    "        for i in range(t+1,len(nums)):\n",
    "            if nums[i] < nums[smallest_index]:\n",
    "                smallest_index = i\n",
    "        nums[t],nums[smallest_index] =  nums[smallest_index],nums[t]\n",
    "        t += 1\n",
    "    return nums      "
   ]
  },
  {
   "cell_type": "markdown",
   "metadata": {},
   "source": [
    "<a id='912c'></a>\n",
    "## [912c. Merge Sort](https://leetcode.com/problems/sort-an-array/)\n",
    "#### Given an array of integers nums, sort the array in ascending order.\n",
    "###### O(n2)"
   ]
  },
  {
   "cell_type": "code",
   "execution_count": null,
   "metadata": {},
   "outputs": [],
   "source": [
    "def mergesort(nums):\n",
    "    if len(nums) > 1: \n",
    "        mid = len(nums)//2\n",
    "        L = nums[:mid] \n",
    "        R = nums[mid:] \n",
    "\n",
    "        Solution.mergesort(L)\n",
    "        Solution.mergesort(R)\n",
    "\n",
    "        i = j = k = 0\n",
    "\n",
    "        while i < len(L) and j < len(R): \n",
    "            if L[i] < R[j]: \n",
    "                nums[k] = L[i] \n",
    "                i+=1\n",
    "            else: \n",
    "                nums[k] = R[j] \n",
    "                j+=1\n",
    "            k+=1\n",
    "\n",
    "        while i < len(L): \n",
    "            nums[k] = L[i] \n",
    "            i+=1\n",
    "            k+=1\n",
    "\n",
    "        while j < len(R): \n",
    "            nums[k] = R[j] \n",
    "            j+=1\n",
    "            k+=1\n",
    "\n",
    "def sortArray(self, nums: List[int]) -> List[int]:  \n",
    "    Solution.mergesort(nums)\n",
    "    return nums"
   ]
  }
 ],
 "metadata": {
  "kernelspec": {
   "display_name": "Python 3",
   "language": "python",
   "name": "python3"
  },
  "language_info": {
   "codemirror_mode": {
    "name": "ipython",
    "version": 3
   },
   "file_extension": ".py",
   "mimetype": "text/x-python",
   "name": "python",
   "nbconvert_exporter": "python",
   "pygments_lexer": "ipython3",
   "version": "3.6.9"
  }
 },
 "nbformat": 4,
 "nbformat_minor": 4
}
