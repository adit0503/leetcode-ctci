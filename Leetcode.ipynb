{
 "cells": [
  {
   "cell_type": "markdown",
   "metadata": {},
   "source": [
    "## 409. Longest Palindrome\n",
    "\n",
    "#### Given a string which consists of lowercase or uppercase letters, find the length of the longest palindromes that can be built with those letters. This is case sensitive, for example \"Aa\" is not considered a palindrome here.\n",
    "\n",
    "###### O(n)"
   ]
  },
  {
   "cell_type": "code",
   "execution_count": null,
   "metadata": {},
   "outputs": [],
   "source": [
    "def longestPalindrome(s) -> int:\n",
    "    count = {}\n",
    "    for i in s:\n",
    "        count[i] = count.get(i,0) + 1\n",
    "        \n",
    "    ans = 0\n",
    "    for i in count:\n",
    "        ans += int(count[i] / 2) * 2\n",
    "        if ans%2 == 0 and count[i]%2 == 1:\n",
    "            ans += 1\n",
    "    return ans\n",
    "        \n",
    "s = input()\n",
    "print(longestPalindrome(s))"
   ]
  },
  {
   "cell_type": "markdown",
   "metadata": {},
   "source": [
    "## 1. Two Sum\n",
    "\n",
    "#### Given an array of integers, return indices of the two numbers such that they add up to a specific target. You may assume that each input would have exactly one solution, and you may not use the same element twice.\n",
    "\n",
    "###### O(n2)"
   ]
  },
  {
   "cell_type": "code",
   "execution_count": null,
   "metadata": {},
   "outputs": [],
   "source": [
    "def twoSum(nums, target) -> list:\n",
    "    ans = []\n",
    "    for i in range(len(nums)):\n",
    "        for j in range(i+1,len(nums)):\n",
    "            if nums[i] + nums[j] == target:\n",
    "                ans.append(i)\n",
    "                ans.append(j)\n",
    "                break\n",
    "    return ans\n",
    "\n",
    "n = input()\n",
    "nums = list(map(int,n.rstrip().split())) \n",
    "target = int(input())\n",
    "print(twoSum(nums,target))"
   ]
  },
  {
   "cell_type": "markdown",
   "metadata": {},
   "source": [
    "###### O(n)"
   ]
  },
  {
   "cell_type": "code",
   "execution_count": null,
   "metadata": {},
   "outputs": [],
   "source": [
    "def printDict(d):\n",
    "    for x in d:\n",
    "        print(x,d.get(x))\n",
    "        \n",
    "def twoSum(nums,target) -> list:\n",
    "    nums_map = {}\n",
    "    for i in range(len(nums)):\n",
    "        nums_map[nums[i]] = i\n",
    "        \n",
    "    ans =[]\n",
    "    for i in range(len(nums)):\n",
    "        if (target-nums[i] in nums_map.keys()) and (target-nums[i] != nums[i]):\n",
    "            ans.append(nums_map.get(nums[i]))\n",
    "            ans.append(nums_map.get(target-nums[i]))\n",
    "            break\n",
    "    return ans\n",
    "\n",
    "n = input()\n",
    "nums = list(map(int,n.rstrip().split()))\n",
    "target = int(input())\n",
    "print(twoSum(nums,target))"
   ]
  },
  {
   "cell_type": "markdown",
   "metadata": {},
   "source": [
    "###### O(n)"
   ]
  },
  {
   "cell_type": "code",
   "execution_count": null,
   "metadata": {},
   "outputs": [],
   "source": [
    "def twoSum(nums,target):\n",
    "    nums_map ={}\n",
    "    ans = []\n",
    "    for i in range(len(nums)):\n",
    "        if nums[i] in nums_map:\n",
    "            ans.append(nums_map[nums[i]])\n",
    "            ans.append(i)\n",
    "        else:\n",
    "            nums_map[target-nums[i]] = i\n",
    "    return ans\n",
    "\n",
    "n = input()\n",
    "nums = list(map(int,n.rstrip().split()))\n",
    "target = int(input())\n",
    "print(twoSum(nums,target))"
   ]
  },
  {
   "cell_type": "markdown",
   "metadata": {},
   "source": [
    "## 7. Reverse Integer\n",
    "\n",
    "#### Given a 32-bit signed integer, reverse digits of an integer.\n",
    "\n",
    "###### O(log(n))"
   ]
  },
  {
   "cell_type": "code",
   "execution_count": null,
   "metadata": {},
   "outputs": [],
   "source": [
    "def reverse(x) -> int:\n",
    "    if x<0:\n",
    "        sign = -1\n",
    "        x = x*-1\n",
    "    else:\n",
    "        sign = 1\n",
    "    \n",
    "    n = 0\n",
    "    while(x!=0):\n",
    "        y = x%10\n",
    "        n = n*10 + y\n",
    "        x = int(x/10)\n",
    "        \n",
    "    if n <= -2**31 or n >=2**31 -1:\n",
    "        return 0\n",
    "    \n",
    "    return sign*n\n",
    "\n",
    "n = int(input())\n",
    "print(reverse(n))"
   ]
  },
  {
   "cell_type": "markdown",
   "metadata": {},
   "source": [
    "## 14. Longest Common Prefix\n",
    "\n",
    "#### Write a function to find the longest common prefix string amongst an array of strings. If there is no common prefix, return an empty string \"\".\n",
    "\n",
    "###### O(s) - horizontal window"
   ]
  },
  {
   "cell_type": "code",
   "execution_count": null,
   "metadata": {},
   "outputs": [],
   "source": [
    "#O(S) - Leetcode #14 : Longest Common Prefix (horizontal)\n",
    "def longestCommonPrefix(strs) -> str:\n",
    "    if len(strs) == 0:\n",
    "        return \"\"\n",
    "    prefix = strs[0]\n",
    "    for i in range(1,len(strs)):\n",
    "        while(strs[i].find(prefix) != 0):\n",
    "            prefix = prefix[0:len(prefix)-1]\n",
    "        if len(prefix) == 0:\n",
    "            return \"\"\n",
    "    return prefix\n",
    "\n",
    "s = input().rstrip().split()\n",
    "print(longestCommonPrefix(s))"
   ]
  },
  {
   "cell_type": "markdown",
   "metadata": {},
   "source": [
    "###### O(s) - vertical window"
   ]
  },
  {
   "cell_type": "code",
   "execution_count": null,
   "metadata": {},
   "outputs": [],
   "source": [
    "#O(S) - Leetcode #14 : Longest Common Prefix (vertical)\n",
    "def longestCommonPrefix(strs) -> str:\n",
    "    if len(strs) == 0:\n",
    "        return \"\"\n",
    "    prefix = \"\"\n",
    "    for i in range(len(strs[0])):\n",
    "        c = strs[0][i]\n",
    "        for j in range(1,len(strs)):\n",
    "            if i >= len(strs[j]):\n",
    "                return prefix\n",
    "            if c != strs[j][i]:\n",
    "                return prefix\n",
    "        prefix += c\n",
    "    return prefix\n",
    "\n",
    "s = input().rstrip().split()\n",
    "print(longestCommonPrefix(s))"
   ]
  },
  {
   "cell_type": "markdown",
   "metadata": {},
   "source": [
    "## 20. Valid Parentheses\n",
    "\n",
    "#### Given a string containing just the characters '(', ')', '{', '}', '[' and ']', determine if the input string is valid. An input string is valid if: 1. Open brackets must be closed by the same type of brackets. 2. Open brackets must be closed in the correct order. Note that an empty string is also considered valid.\n",
    "\n",
    "###### O(n)"
   ]
  },
  {
   "cell_type": "code",
   "execution_count": null,
   "metadata": {},
   "outputs": [],
   "source": [
    "def isValid(s) -> bool:\n",
    "    stack = []\n",
    "    mapping = {\")\": \"(\", \"}\": \"{\", \"]\": \"[\"}\n",
    "    for char in s:\n",
    "        if char in mapping:\n",
    "            if len(stack) != 0:\n",
    "                top_element = stack.pop()\n",
    "            else:\n",
    "                top_element = \"#\"\n",
    "            if mapping[char] != top_element:\n",
    "                return False\n",
    "        else:\n",
    "            stack.append(char)\n",
    "\n",
    "    if len(stack) != 0:\n",
    "        return False\n",
    "    return True\n",
    "\n",
    "s = input()\n",
    "print(isValid(s))"
   ]
  },
  {
   "cell_type": "markdown",
   "metadata": {},
   "source": [
    "## 721. Merge Two Sorted Lists\n",
    "\n",
    "#### Merge two sorted linked lists and return it as a new list. The new list should be made by splicing together the nodes of the first two lists.\n",
    "\n",
    "###### O(n+m)"
   ]
  },
  {
   "cell_type": "code",
   "execution_count": null,
   "metadata": {},
   "outputs": [],
   "source": [
    "class ListNode:\n",
    "    def __init__(self, x):\n",
    "        self.val = x\n",
    "        self.next = None\n",
    "\n",
    "def mergeTwoLists(l1,l2) -> ListNode:\n",
    "    if l1 == None:\n",
    "        return l2\n",
    "    elif l2 == None:\n",
    "        return l1\n",
    "    \n",
    "    dummy_node = ListNode(0)\n",
    "    ans_node = dummy_node\n",
    "    while(l1 != None and l2 != None):\n",
    "        if l1.val < l2.val:\n",
    "            dummy_node.next = ListNode(l1.val)\n",
    "            dummy_node = dummy_node.next\n",
    "            l1 = l1.next\n",
    "        else:\n",
    "            dummy_node.next = ListNode(l2.val)\n",
    "            dummy_node = dummy_node.next\n",
    "            l2 = l2.next\n",
    "    if l1 != None:\n",
    "        dummy_node.next = l1\n",
    "    else:\n",
    "        dummy_node.next = l2\n",
    "        \n",
    "    return ans_node.next"
   ]
  },
  {
   "cell_type": "markdown",
   "metadata": {},
   "source": [
    "## 2. Add Two Numbers\n",
    "\n",
    "#### You are given two non-empty linked lists representing two non-negative integers. The digits are stored in reverse order and each of their nodes contain a single digit. Add the two numbers and return it as a linked list. You may assume the two numbers do not contain any leading zero, except the number 0 itself.\n",
    "\n",
    "###### O(max(m+n))"
   ]
  },
  {
   "cell_type": "code",
   "execution_count": null,
   "metadata": {},
   "outputs": [],
   "source": [
    "class ListNode:\n",
    "    def __init__(self, x):\n",
    "        self.val = x\n",
    "        self.next = None\n",
    "        \n",
    "    def addTwoNumbers(l1, l2) -> ListNode:\n",
    "        add = ListNode(0)\n",
    "        ans = add\n",
    "        carry = 0\n",
    "        while(l1 != None or l2 != None):\n",
    "            if l1 != None:\n",
    "                a = l1.val\n",
    "            else:\n",
    "                a = 0\n",
    "            if l2 != None:\n",
    "                b = l2.val\n",
    "            else:\n",
    "                b = 0\n",
    "            plus = a + b + carry\n",
    "            carry = int(plus/10)\n",
    "            add.next = ListNode(plus % 10)\n",
    "            add = add.next\n",
    "            if l1 != None:\n",
    "                l1 = l1.next\n",
    "            if l2 != None:\n",
    "                l2 = l2.next\n",
    "        if carry > 0:\n",
    "            add.next = ListNode(carry)\n",
    "        return ans.next"
   ]
  },
  {
   "cell_type": "markdown",
   "metadata": {},
   "source": [
    "## 26. Remove Duplicates from Sorted Array\n",
    "\n",
    "#### Given a sorted array nums, remove the duplicates in-place such that each element appear only once and return the new length. Do not allocate extra space for another array, you must do this by modifying the input array in-place with O(1) extra memory.\n",
    "\n",
    "###### O(n)"
   ]
  },
  {
   "cell_type": "code",
   "execution_count": null,
   "metadata": {},
   "outputs": [],
   "source": [
    "def removeDuplicates(nums) -> int:\n",
    "    if len(nums) == 0:\n",
    "        return 0\n",
    "    i = 0\n",
    "    for j in range(1,len(nums)):\n",
    "        if nums[j] != nums[i]:\n",
    "            i += 1\n",
    "            nums[i] = nums[j]\n",
    "    return i+1\n",
    "\n",
    "n = input()\n",
    "nums = list(map(int,n.rstrip().split()))\n",
    "print(removeDuplicates(nums))\n",
    "print(nums)"
   ]
  },
  {
   "cell_type": "markdown",
   "metadata": {},
   "source": [
    "###### O(n2)"
   ]
  },
  {
   "cell_type": "code",
   "execution_count": null,
   "metadata": {},
   "outputs": [],
   "source": [
    "def removeDuplicates(nums) -> int:\n",
    "    if len(nums) == 0:\n",
    "        return 0\n",
    "    i = 0\n",
    "    while(i <= len(nums)-2):\n",
    "        if nums[i] == nums[i+1]:\n",
    "            nums.remove(nums[i])\n",
    "        else:\n",
    "            i += 1\n",
    "    return i+1\n",
    "\n",
    "n = input()\n",
    "nums = list(map(int,n.rstrip().split()))\n",
    "print(removeDuplicates(nums))\n",
    "print(nums)"
   ]
  },
  {
   "cell_type": "markdown",
   "metadata": {},
   "source": [
    "## 27. Remove Element\n",
    "\n",
    "#### Given an array nums and a value val, remove all instances of that value in-place and return the new length. Do not allocate extra space for another array, you must do this by modifying the input array in-place with O(1) extra memory. The order of elements can be changed. It doesn't matter what you leave beyond the new length.\n",
    "\n",
    "###### O(n)"
   ]
  },
  {
   "cell_type": "code",
   "execution_count": null,
   "metadata": {},
   "outputs": [],
   "source": [
    "def removeElement(nums, val) -> int:\n",
    "    i = 0\n",
    "    while(i <= len(nums)-1):\n",
    "        if nums[i] == val:\n",
    "            nums.remove(nums[i])\n",
    "        else:\n",
    "            i += 1\n",
    "    return len(nums)\n",
    "\n",
    "n = input()\n",
    "nums = list(map(int,n.rstrip().split()))\n",
    "val = int(input())\n",
    "print(removeElement(nums,val))\n",
    "print(nums)"
   ]
  },
  {
   "cell_type": "markdown",
   "metadata": {},
   "source": [
    "## 4. Median of Two Sorted Arrays\n",
    "\n",
    "#### There are two sorted arrays nums1 and nums2 of size m and n respectively. Find the median of the two sorted arrays. The overall run time complexity should be O(log (m+n)). You may assume nums1 and nums2 cannot be both empty.\n",
    "\n",
    "###### O(log(m+n))"
   ]
  },
  {
   "cell_type": "code",
   "execution_count": null,
   "metadata": {},
   "outputs": [],
   "source": [
    "def findMedianSortedArrays(nums1,nums2):\n",
    "    nums3 = [None] * (len(nums1)+len(nums2)) #initialize the 3rd array\n",
    "    i = 0\n",
    "    j = 0\n",
    "    k = 0\n",
    "    while(i<len(nums1) and j<len(nums2)):\n",
    "        #print(nums3,i,j,k)\n",
    "        if nums1[i] < nums2[j]:\n",
    "            nums3[k] = nums1[i]\n",
    "            i += 1\n",
    "            k += 1\n",
    "        else:\n",
    "            nums3[k] = nums2[j]\n",
    "            j += 1\n",
    "            k += 1\n",
    "\n",
    "    if i < len(nums1):\n",
    "        nums3[k:] = nums1[i:]\n",
    "    if j < len(nums2):\n",
    "        nums3[k:] = nums2[j:]\n",
    "    \n",
    "    mid = int(len(nums3)/2)\n",
    "    if len(nums3)%2 == 0:\n",
    "        return (nums3[mid-1]+nums3[mid])/2\n",
    "    else:\n",
    "        return nums3[mid]\n",
    "\n",
    "n1 = input()\n",
    "nums1 = list(map(int,n1.rstrip().split()))\n",
    "n2 = input()\n",
    "nums2 = list(map(int,n2.rstrip().split()))\n",
    "print(findMedianSortedArrays(nums1,nums2))"
   ]
  },
  {
   "cell_type": "code",
   "execution_count": null,
   "metadata": {},
   "outputs": [],
   "source": [
    "import sys\n",
    "def findMedianSortedArrays(nums1,nums2):\n",
    "    l = len(nums1)+len(nums2)\n",
    "    m = int(l/2)\n",
    "    nums3 = [None]*(m+1)\n",
    "    i=0\n",
    "    j=0\n",
    "    k=0\n",
    "    while(k < m+1):\n",
    "        a = sys.maxsize if i >= len(nums1) else nums1[i]\n",
    "        b = sys.maxsize if j >= len(nums2) else nums2[j]\n",
    "        if (a < b):\n",
    "            nums3[k] = nums1[i]\n",
    "            i += 1\n",
    "            k += 1\n",
    "        else:\n",
    "            nums3[k] = nums2[j]\n",
    "            j += 1\n",
    "            k += 1\n",
    "    if l%2 == 0:\n",
    "        return (nums3[k-2]+nums3[k-1])/2\n",
    "    else:\n",
    "        return nums3[k-1]\n",
    "\n",
    "n1 = input()\n",
    "nums1 = list(map(int,n1.rstrip().split()))\n",
    "n2 = input()\n",
    "nums2 = list(map(int,n2.rstrip().split()))\n",
    "print(findMedianSortedArrays(nums1,nums2))"
   ]
  },
  {
   "cell_type": "markdown",
   "metadata": {},
   "source": [
    "## 28. Implement strStr()\n",
    "\n",
    "#### Implement find()/index(). Return the index of the first occurrence of needle in haystack, or -1 if needle is not part of haystack.\n",
    "\n",
    "###### O(s)"
   ]
  },
  {
   "cell_type": "code",
   "execution_count": null,
   "metadata": {},
   "outputs": [],
   "source": [
    "def strStr(haystack, needle) -> int:\n",
    "    i = 0\n",
    "    k1 = len(haystack)-len(needle)\n",
    "    k2 = len(needle)\n",
    "    while (i <= k1):\n",
    "        if haystack[i:i+k2] == needle:\n",
    "            return i\n",
    "        i+= 1\n",
    "    return -1\n",
    "        \n",
    "st1 = input()\n",
    "st2 = input()\n",
    "print(strStr(st1,st2))"
   ]
  },
  {
   "cell_type": "markdown",
   "metadata": {},
   "source": [
    "## 35. Search Insert Position\n",
    "\n",
    "#### Given a sorted array and a target value, return the index if the target is found. If not, return the index where it would be if it were inserted in order. You may assume no duplicates in the array.\n",
    "\n",
    "###### O(n)"
   ]
  },
  {
   "cell_type": "code",
   "execution_count": null,
   "metadata": {},
   "outputs": [],
   "source": [
    "def searchInsert(nums,target) -> int:\n",
    "    for i in range(len(nums)):\n",
    "        if target <= nums[i]:\n",
    "            return i\n",
    "    return i+1\n",
    "    \n",
    "n = input()\n",
    "nums = list(map(int,n.rstrip().split()))\n",
    "target = int(input())\n",
    "print(searchInsert(nums,target))"
   ]
  },
  {
   "cell_type": "markdown",
   "metadata": {},
   "source": [
    "###### O(log(n))"
   ]
  },
  {
   "cell_type": "code",
   "execution_count": null,
   "metadata": {},
   "outputs": [],
   "source": [
    "def searchInsert(nums,target) -> int:\n",
    "    l = 0\n",
    "    r = len(nums)-1\n",
    "\n",
    "    while (l <= r):\n",
    "        m = \n",
    "        if nums[m] == target:\n",
    "            return m\n",
    "        if nums[m] < target:\n",
    "            l = m + 1\n",
    "        else:\n",
    "            r = m - 1\n",
    "    return l\n",
    "        \n",
    "n = input()\n",
    "nums = list(map(int,n.rstrip().split()))\n",
    "target = int(input())\n",
    "print(searchInsert(nums,target))"
   ]
  }
 ],
 "metadata": {
  "kernelspec": {
   "display_name": "Python 3",
   "language": "python",
   "name": "python3"
  },
  "language_info": {
   "codemirror_mode": {
    "name": "ipython",
    "version": 3
   },
   "file_extension": ".py",
   "mimetype": "text/x-python",
   "name": "python",
   "nbconvert_exporter": "python",
   "pygments_lexer": "ipython3",
   "version": "3.6.9"
  }
 },
 "nbformat": 4,
 "nbformat_minor": 2
}
