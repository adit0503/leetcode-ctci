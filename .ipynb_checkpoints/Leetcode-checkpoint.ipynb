{
 "cells": [
  {
   "cell_type": "markdown",
   "metadata": {
    "scrolled": true
   },
   "source": [
    "print(\"hello World\")\n",
    "\n",
    "range(start, stop, step)\n",
    "return types int,float,str,bool,list,dict\n",
    "for i in x: count_x[i] = count_x.get(i,0) + 1 => dict count initialization\n",
    "\n",
    "from platform import python_version\n",
    "print(python_version())"
   ]
  },
  {
   "cell_type": "code",
   "execution_count": null,
   "metadata": {},
   "outputs": [],
   "source": [
    "#O(n) - Leetcode #409 : Longest Palindrome\n",
    "def longestPalindrome(s) -> int:\n",
    "    count = {}\n",
    "    for i in s:\n",
    "        count[i] = count.get(i,0) + 1\n",
    "        \n",
    "    ans = 0\n",
    "    for i in count:\n",
    "        ans += int(count[i] / 2) * 2\n",
    "        if ans%2 == 0 and count[i]%2 == 1:\n",
    "            ans += 1\n",
    "    return ans\n",
    "        \n",
    "s = input()\n",
    "print(longestPalindrome(s))"
   ]
  },
  {
   "cell_type": "code",
   "execution_count": null,
   "metadata": {},
   "outputs": [],
   "source": [
    "n = int(input())\n",
    "arr = list(map(int, input().rstrip().split()))\n",
    "\n",
    "for i in range(n-1,-1,-1):\n",
    "    print(arr[i],end=\" \")"
   ]
  },
  {
   "cell_type": "code",
   "execution_count": null,
   "metadata": {},
   "outputs": [],
   "source": [
    "#O(n2) - Leetcode #1 : Two Sum\n",
    "def twoSum(nums, target) -> list:\n",
    "    ans = []\n",
    "    for i in range(len(nums)):\n",
    "        for j in range(i+1,len(nums)):\n",
    "            if nums[i] + nums[j] == target:\n",
    "                ans.append(i)\n",
    "                ans.append(j)\n",
    "                break\n",
    "    return ans\n",
    "\n",
    "n = input()\n",
    "nums = list(map(int,n.rstrip().split())) \n",
    "target = int(input())\n",
    "print(twoSum(nums,target))\n",
    "        "
   ]
  },
  {
   "cell_type": "code",
   "execution_count": null,
   "metadata": {},
   "outputs": [],
   "source": [
    "#O(n) - Leetcode #1 : Two Sum {but does not pass duplicate array numbers test case}\n",
    "def printDict(d):\n",
    "    for x in d:\n",
    "        print(x,d.get(x))\n",
    "        \n",
    "def twoSum(nums,target) -> list:\n",
    "    nums_map = {}\n",
    "    for i in range(len(nums)):\n",
    "        nums_map[nums[i]] = i\n",
    "        \n",
    "    ans =[]\n",
    "    for i in range(len(nums)):\n",
    "        if (target-nums[i] in nums_map.keys()) and (target-nums[i] != nums[i]):\n",
    "            ans.append(nums_map.get(nums[i]))\n",
    "            ans.append(nums_map.get(target-nums[i]))\n",
    "            break\n",
    "    return ans\n",
    "\n",
    "n = input()\n",
    "nums = list(map(int,n.rstrip().split()))\n",
    "target = int(input())\n",
    "print(twoSum(nums,target))"
   ]
  },
  {
   "cell_type": "code",
   "execution_count": null,
   "metadata": {},
   "outputs": [],
   "source": [
    "#O(n) - Leetcode #1 : Two Sum\n",
    "def twoSum(nums,target):\n",
    "    nums_map ={}\n",
    "    ans = []\n",
    "    for i in range(len(nums)):\n",
    "        if nums[i] in nums_map:\n",
    "            ans.append(nums_map[nums[i]])\n",
    "            ans.append(i)\n",
    "        else:\n",
    "            nums_map[target-nums[i]] = i\n",
    "    return ans\n",
    "\n",
    "n = input()\n",
    "nums = list(map(int,n.rstrip().split()))\n",
    "target = int(input())\n",
    "print(twoSum(nums,target))"
   ]
  },
  {
   "cell_type": "code",
   "execution_count": null,
   "metadata": {},
   "outputs": [],
   "source": [
    "#O(log(n)) - Leetcode #7 : Reverse Integer\n",
    "def reverse(x) -> int:\n",
    "    if x<0:\n",
    "        sign = -1\n",
    "        x = x*-1\n",
    "    else:\n",
    "        sign = 1\n",
    "    \n",
    "    n = 0\n",
    "    while(x!=0):\n",
    "        y = x%10\n",
    "        n = n*10 + y\n",
    "        x = int(x/10)\n",
    "        \n",
    "    if n <= -2**31 or n >=2**31 -1:\n",
    "        return 0\n",
    "    \n",
    "    return sign*n\n",
    "\n",
    "n = int(input())\n",
    "print(reverse(n))"
   ]
  },
  {
   "cell_type": "code",
   "execution_count": null,
   "metadata": {},
   "outputs": [],
   "source": [
    "#O(S) - Leetcode #14 : Longest Common Prefix (horizontal)\n",
    "def longestCommonPrefix(strs) -> str:\n",
    "    if len(strs) == 0:\n",
    "        return \"\"\n",
    "    prefix = strs[0]\n",
    "    for i in range(1,len(strs)):\n",
    "        while(strs[i].find(prefix) != 0):\n",
    "            prefix = prefix[0:len(prefix)-1]\n",
    "        if len(prefix) == 0:\n",
    "            return \"\"\n",
    "    return prefix\n",
    "\n",
    "s = input().rstrip().split()\n",
    "print(longestCommonPrefix(s))"
   ]
  },
  {
   "cell_type": "code",
   "execution_count": null,
   "metadata": {},
   "outputs": [],
   "source": [
    "l1 = \"abcderwty\"\n",
    "l2 = \"abcmnv\"\n",
    "print(l1.find(l2)) #l2 is substring of l1\n",
    "prefix = l1\n",
    "while(l2.find(prefix) != 0):\n",
    "    prefix = prefix[0:len(prefix)-1]\n",
    "print(prefix)"
   ]
  },
  {
   "cell_type": "code",
   "execution_count": null,
   "metadata": {},
   "outputs": [],
   "source": [
    "#O(S) - Leetcode #14 : Longest Common Prefix (vertical)\n",
    "def longestCommonPrefix(strs) -> str:\n",
    "    if len(strs) == 0:\n",
    "        return \"\"\n",
    "    prefix = \"\"\n",
    "    for i in range(len(strs[0])):\n",
    "        c = strs[0][i]\n",
    "        for j in range(1,len(strs)):\n",
    "            if i >= len(strs[j]):\n",
    "                return prefix\n",
    "            if c != strs[j][i]:\n",
    "                return prefix\n",
    "        prefix += c\n",
    "    return prefix\n",
    "\n",
    "s = input().rstrip().split()\n",
    "print(longestCommonPrefix(s))"
   ]
  },
  {
   "cell_type": "code",
   "execution_count": null,
   "metadata": {},
   "outputs": [],
   "source": [
    "#O(n) - Leetcode #20 : Valid Parentheses\n",
    "def isValid(s) -> bool:\n",
    "    stack = []\n",
    "    mapping = {\")\": \"(\", \"}\": \"{\", \"]\": \"[\"}\n",
    "    for char in s:\n",
    "        if char in mapping:\n",
    "            if len(stack) != 0:\n",
    "                top_element = stack.pop()\n",
    "            else:\n",
    "                top_element = \"#\"\n",
    "            if mapping[char] != top_element:\n",
    "                return False\n",
    "        else:\n",
    "            stack.append(char)\n",
    "\n",
    "    if len(stack) != 0:\n",
    "        return False\n",
    "    return True\n",
    "\n",
    "s = input()\n",
    "print(isValid(s))"
   ]
  },
  {
   "cell_type": "code",
   "execution_count": null,
   "metadata": {},
   "outputs": [],
   "source": [
    "class ListNode:\n",
    "    def __init__(self, x):\n",
    "        self.val = x\n",
    "        self.next = None\n",
    "\n",
    "def traverse(x):\n",
    "    n = x\n",
    "    while n != None:\n",
    "        print(n.val, end=\" \")\n",
    "        n = n.next\n",
    "    print()\n",
    "        \n",
    "        \n",
    "n1 = ListNode(1)\n",
    "n2 = ListNode(2)\n",
    "n3 = ListNode(3)\n",
    "n1.next = n2\n",
    "n2.next = n3\n",
    "traverse(n1)\n",
    "traverse(n2)\n",
    "traverse(n3)\n",
    "\n"
   ]
  },
  {
   "cell_type": "code",
   "execution_count": null,
   "metadata": {},
   "outputs": [],
   "source": [
    "#O(n+m) - Leetcode #21 : Merge Two Sorted Lists\n",
    "class ListNode:\n",
    "    def __init__(self, x):\n",
    "        self.val = x\n",
    "        self.next = None\n",
    "\n",
    "def mergeTwoLists(l1,l2) -> ListNode:\n",
    "    if l1 == None:\n",
    "        return l2\n",
    "    elif l2 == None:\n",
    "        return l1\n",
    "    \n",
    "    dummy_node = ListNode(0)\n",
    "    ans_node = dummy_node\n",
    "    while(l1 != None and l2 != None):\n",
    "        if l1.val < l2.val:\n",
    "            dummy_node.next = ListNode(l1.val)\n",
    "            dummy_node = dummy_node.next\n",
    "            l1 = l1.next\n",
    "        else:\n",
    "            dummy_node.next = ListNode(l2.val)\n",
    "            dummy_node = dummy_node.next\n",
    "            l2 = l2.next\n",
    "    if l1 != None:\n",
    "        dummy_node.next = l1\n",
    "    else:\n",
    "        dummy_node.next = l2\n",
    "        \n",
    "    return ans_node.next"
   ]
  },
  {
   "cell_type": "code",
   "execution_count": null,
   "metadata": {},
   "outputs": [],
   "source": [
    "#O(max(n+m)) - Leetcode #2 : Add Two Numbers\n",
    "class ListNode:\n",
    "    def __init__(self, x):\n",
    "        self.val = x\n",
    "        self.next = None\n",
    "        \n",
    "    def addTwoNumbers(l1, l2) -> ListNode:\n",
    "        add = ListNode(0)\n",
    "        ans = add\n",
    "        carry = 0\n",
    "        while(l1 != None or l2 != None):\n",
    "            if l1 != None:\n",
    "                a = l1.val\n",
    "            else:\n",
    "                a = 0\n",
    "            if l2 != None:\n",
    "                b = l2.val\n",
    "            else:\n",
    "                b = 0\n",
    "            plus = a + b + carry\n",
    "            carry = int(plus/10)\n",
    "            add.next = ListNode(plus % 10)\n",
    "            add = add.next\n",
    "            if l1 != None:\n",
    "                l1 = l1.next\n",
    "            if l2 != None:\n",
    "                l2 = l2.next\n",
    "        if carry > 0:\n",
    "            add.next = ListNode(carry)\n",
    "        return ans.next"
   ]
  },
  {
   "cell_type": "code",
   "execution_count": null,
   "metadata": {},
   "outputs": [],
   "source": [
    "#(n) - Leetcode #26 :  Remove Duplicates from Sorted Array\n",
    "def removeDuplicates(nums) -> int:\n",
    "    if len(nums) == 0:\n",
    "        return 0\n",
    "    i = 0\n",
    "    for j in range(1,len(nums)):\n",
    "        if nums[j] != nums[i]:\n",
    "            i += 1\n",
    "            nums[i] = nums[j]\n",
    "    return i+1\n",
    "\n",
    "n = input()\n",
    "nums = list(map(int,n.rstrip().split()))\n",
    "print(removeDuplicates(nums))\n",
    "print(nums)"
   ]
  },
  {
   "cell_type": "code",
   "execution_count": null,
   "metadata": {},
   "outputs": [],
   "source": [
    "#(n) - Leetcode #27 :  Remove Element\n",
    "def removeElements(nums) -> int:\n",
    "    if len(nums) == 0:\n",
    "        return 0    \n",
    "    i = 0\n",
    "    for j in len(nums):\n",
    "        if nums[j] != val:\n",
    "            nums[i] = nums[j]\n",
    "            i += 1\n",
    "    return i\n",
    "\n",
    "n = input()\n",
    "nums = list(map(int,n.rstrip().split()))\n",
    "val = int(input())\n",
    "print(removeElement(nums,val))\n",
    "print(nums)"
   ]
  },
  {
   "cell_type": "code",
   "execution_count": null,
   "metadata": {},
   "outputs": [],
   "source": [
    "#(n2) - Leetcode #27 :  Remove Element\n",
    "def removeElement(nums, val) -> int:\n",
    "    i = 0\n",
    "    while(i <= len(nums)-1):\n",
    "        if nums[i] == val:\n",
    "            nums.remove(nums[i])\n",
    "        else:\n",
    "            i += 1\n",
    "    return len(nums)\n",
    "\n",
    "n = input()\n",
    "nums = list(map(int,n.rstrip().split()))\n",
    "val = int(input())\n",
    "print(removeElement(nums,val))\n",
    "print(nums)"
   ]
  },
  {
   "cell_type": "code",
   "execution_count": null,
   "metadata": {},
   "outputs": [],
   "source": [
    "#(n2) - Leetcode #26 :  Remove Duplicates from Sorted Array\n",
    "def removeDuplicates(nums) -> int:\n",
    "    if len(nums) == 0:\n",
    "        return 0\n",
    "    i = 0\n",
    "    while(i <= len(nums)-2):\n",
    "        if nums[i] == nums[i+1]:\n",
    "            nums.remove(nums[i])\n",
    "        else:\n",
    "            i += 1\n",
    "    return i+1\n",
    "\n",
    "n = input()\n",
    "nums = list(map(int,n.rstrip().split()))\n",
    "print(removeDuplicates(nums))\n",
    "print(nums)"
   ]
  },
  {
   "cell_type": "markdown",
   "metadata": {},
   "source": [
    "nums1 = [1,2,3,4]\n",
    "nums2 = [5,6,7,8]\n",
    "i=4\n",
    "j=0\n",
    "nums1[i:] = nums2[j:]\n",
    "print(nums1)"
   ]
  },
  {
   "cell_type": "code",
   "execution_count": 7,
   "metadata": {},
   "outputs": [
    {
     "name": "stdout",
     "output_type": "stream",
     "text": [
      "1 2 3\n",
      "5 8 9\n",
      "4.0\n"
     ]
    }
   ],
   "source": [
    "#\n",
    "def findMedianSortedArrays(nums1,nums2):\n",
    "    nums3 = [None] * (len(nums1)+len(nums2)) #initialize the 3rd array\n",
    "    i = 0\n",
    "    j = 0\n",
    "    k = 0\n",
    "    while(i<len(nums1) and j<len(nums2)):\n",
    "        #print(nums3,i,j,k)\n",
    "        if nums1[i] < nums2[j]:\n",
    "            nums3[k] = nums1[i]\n",
    "            i += 1\n",
    "            k += 1\n",
    "        else:\n",
    "            nums3[k] = nums2[j]\n",
    "            j += 1\n",
    "            k += 1\n",
    "\n",
    "    if i < len(nums1):\n",
    "        nums3[k:] = nums1[i:]\n",
    "    if j < len(nums2):\n",
    "        nums3[k:] = nums2[j:]\n",
    "    \n",
    "    mid = int(len(nums3)/2)\n",
    "    if len(nums3)%2 == 0:\n",
    "        return (nums3[mid-1]+nums3[mid])/2\n",
    "    else:\n",
    "        return nums3[mid]\n",
    "\n",
    "n1 = input()\n",
    "nums1 = list(map(int,n1.rstrip().split()))\n",
    "n2 = input()\n",
    "nums2 = list(map(int,n2.rstrip().split()))\n",
    "print(findMedianSortedArrays(nums1,nums2))"
   ]
  },
  {
   "cell_type": "code",
   "execution_count": 35,
   "metadata": {},
   "outputs": [
    {
     "name": "stdout",
     "output_type": "stream",
     "text": [
      "1 2 3\n",
      "4 5 6 7 8\n",
      "4.5\n"
     ]
    }
   ],
   "source": [
    "#\n",
    "import sys\n",
    "def findMedianSortedArrays(nums1,nums2):\n",
    "    l = len(nums1)+len(nums2)\n",
    "    m = int(l/2)\n",
    "    nums3 = [None]*(m+1)\n",
    "    i=0\n",
    "    j=0\n",
    "    k=0\n",
    "    while(k < m+1):\n",
    "        a = sys.maxsize if i >= len(nums1) else nums1[i]\n",
    "        b = sys.maxsize if j >= len(nums2) else nums2[j]\n",
    "        if (a < b):\n",
    "            nums3[k] = nums1[i]\n",
    "            i += 1\n",
    "            k += 1\n",
    "        else:\n",
    "            nums3[k] = nums2[j]\n",
    "            j += 1\n",
    "            k += 1\n",
    "    if l%2 == 0:\n",
    "        return (nums3[k-2]+nums3[k-1])/2\n",
    "    else:\n",
    "        return nums3[k-1]\n",
    "\n",
    "n1 = input()\n",
    "nums1 = list(map(int,n1.rstrip().split()))\n",
    "n2 = input()\n",
    "nums2 = list(map(int,n2.rstrip().split()))\n",
    "print(findMedianSortedArrays(nums1,nums2))"
   ]
  },
  {
   "cell_type": "markdown",
   "metadata": {},
   "source": [
    "#### learn to use filter() !\n",
    "def oddValues(x) -> int:\n",
    "    if x%2 != 0:\n",
    "        return x\n",
    "        \n",
    "seq = [1,2,3,4,5]\n",
    "value  = filter(oddValues,seq)\n",
    "for v in value:\n",
    "    print(v,end=\" \")"
   ]
  },
  {
   "cell_type": "code",
   "execution_count": null,
   "metadata": {},
   "outputs": [],
   "source": [
    "#O(s) - Leetcode #28 : Implement strStr()\n",
    "#similar to find()/index() method\n",
    "def strStr(haystack, needle) -> int:\n",
    "    i = 0\n",
    "    k1 = len(haystack)-len(needle)\n",
    "    k2 = len(needle)\n",
    "    while (i <= k1):\n",
    "        if haystack[i:i+k2] == needle:\n",
    "            return i\n",
    "        i+= 1\n",
    "    return -1\n",
    "        \n",
    "st1 = input()\n",
    "st2 = input()\n",
    "print(strStr(st1,st2))"
   ]
  },
  {
   "cell_type": "code",
   "execution_count": null,
   "metadata": {},
   "outputs": [],
   "source": [
    "#O(n) - LeetCode #35 : Search Insert Position\n",
    "def searchInsert(nums,target) -> int:\n",
    "    for i in range(len(nums)):\n",
    "        if target <= nums[i]:\n",
    "            return i\n",
    "    return i+1\n",
    "    \n",
    "n = input()\n",
    "nums = list(map(int,n.rstrip().split()))\n",
    "target = int(input())\n",
    "print(searchInsert(nums,target))"
   ]
  },
  {
   "cell_type": "code",
   "execution_count": null,
   "metadata": {},
   "outputs": [],
   "source": [
    "#O(log(n)) - LeetCode #35 : Search Insert Position\n",
    "def searchInsert(nums,target) -> int:\n",
    "    l = 0\n",
    "    r = len(nums)-1\n",
    "\n",
    "    while (l <= r):\n",
    "        m = \n",
    "        if nums[m] == target:\n",
    "            return m\n",
    "        if nums[m] < target:\n",
    "            l = m + 1\n",
    "        else:\n",
    "            r = m - 1\n",
    "    return l\n",
    "        \n",
    "n = input()\n",
    "nums = list(map(int,n.rstrip().split()))\n",
    "target = int(input())\n",
    "print(searchInsert(nums,target))"
   ]
  },
  {
   "cell_type": "code",
   "execution_count": null,
   "metadata": {},
   "outputs": [],
   "source": [
    "def lengthOfLongestSubstring(s: str) -> int:\n",
    "    for i in range(len(str)):\n",
    "        \n",
    "        "
   ]
  },
  {
   "cell_type": "code",
   "execution_count": 43,
   "metadata": {},
   "outputs": [
    {
     "name": "stdout",
     "output_type": "stream",
     "text": [
      "yes\n"
     ]
    }
   ],
   "source": [
    "a = 3\n",
    "b = 2\n",
    "if a != None:\n",
    "    print('yes')\n",
    "else:\n",
    "    print('no')"
   ]
  },
  {
   "cell_type": "code",
   "execution_count": 4,
   "metadata": {},
   "outputs": [
    {
     "name": "stdout",
     "output_type": "stream",
     "text": [
      "5\n",
      "1\n",
      "10\n",
      "9 9 9 9 9\n",
      "0\n"
     ]
    }
   ],
   "source": [
    "def getCost (X, k, price, N):\n",
    "    set_price = set(price)\n",
    "    left_to_remember = len(set_price) - k\n",
    "    return X*left_to_remember\n",
    "    \n",
    "N = int(input())\n",
    "k = int(input()) #max remember\n",
    "X = int(input()) #amount to pay\n",
    "price = list(map(int, input().split()))\n",
    "out_ = getCost(X, k, price, N)\n",
    "print (out_)"
   ]
  },
  {
   "cell_type": "code",
   "execution_count": 2,
   "metadata": {},
   "outputs": [
    {
     "name": "stdout",
     "output_type": "stream",
     "text": [
      "{1, 2, 3, 4}\n"
     ]
    },
    {
     "data": {
      "text/plain": [
       "4"
      ]
     },
     "execution_count": 2,
     "metadata": {},
     "output_type": "execute_result"
    }
   ],
   "source": [
    "a = [1,2,3,4,1,2]\n",
    "b = set(a)\n",
    "print(b)\n",
    "len(b)"
   ]
  },
  {
   "cell_type": "code",
   "execution_count": null,
   "metadata": {},
   "outputs": [],
   "source": []
  }
 ],
 "metadata": {
  "kernelspec": {
   "display_name": "Python 3",
   "language": "python",
   "name": "python3"
  },
  "language_info": {
   "codemirror_mode": {
    "name": "ipython",
    "version": 3
   },
   "file_extension": ".py",
   "mimetype": "text/x-python",
   "name": "python",
   "nbconvert_exporter": "python",
   "pygments_lexer": "ipython3",
   "version": "3.6.9"
  }
 },
 "nbformat": 4,
 "nbformat_minor": 2
}
