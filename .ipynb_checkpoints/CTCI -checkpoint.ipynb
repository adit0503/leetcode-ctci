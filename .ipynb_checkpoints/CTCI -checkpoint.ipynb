{
 "cells": [
  {
   "cell_type": "code",
   "execution_count": null,
   "metadata": {},
   "outputs": [],
   "source": []
  },
  {
   "cell_type": "code",
   "execution_count": 6,
   "metadata": {},
   "outputs": [
    {
     "name": "stdout",
     "output_type": "stream",
     "text": [
      "23ds2\n",
      "False\n"
     ]
    }
   ],
   "source": [
    "#O(s)\n",
    "def isUnique(s: str) -> bool:\n",
    "    if len(s) == 0:\n",
    "        return True\n",
    "    \n",
    "    char_set = set()\n",
    "    for x in s:\n",
    "        if x in char_set:\n",
    "            return False\n",
    "        else:\n",
    "            char_set.add(x)\n",
    "    return True\n",
    "\n",
    "n = input()\n",
    "print(isUnique(n))"
   ]
  },
  {
   "cell_type": "code",
   "execution_count": 11,
   "metadata": {},
   "outputs": [
    {
     "name": "stdout",
     "output_type": "stream",
     "text": [
      "asdfg\n",
      "True\n"
     ]
    }
   ],
   "source": [
    "#O(s*2)\n",
    "def isUnique(s: str) -> bool:\n",
    "    if len(s) == 0:\n",
    "        return true\n",
    "    \n",
    "    for i in range(len(s)):\n",
    "        for j in range(i+1,len(s)):\n",
    "            if s[i] == s[j]:\n",
    "                return False\n",
    "    return True\n",
    "\n",
    "n = input()\n",
    "print(isUnique(n))"
   ]
  },
  {
   "cell_type": "code",
   "execution_count": 12,
   "metadata": {},
   "outputs": [
    {
     "name": "stdout",
     "output_type": "stream",
     "text": [
      "asd asdf\n",
      "False\n"
     ]
    }
   ],
   "source": [
    "def checkPermutation(s1: str, s2: str) -> bool:\n",
    "    s1_dict = {}\n",
    "    for x in s1:\n",
    "        if x not in s1_dict:\n",
    "            s1_dict[x] = 1\n",
    "        else:\n",
    "            s1_dict[x] += 1\n",
    "    \n",
    "    for x in s2:\n",
    "        if x in s1_dict:\n",
    "            s1_dict[x] -= 1\n",
    "        else:\n",
    "            return False\n",
    "    \n",
    "    for x in s1_dict.keys():\n",
    "        if s1_dict[x] != 0:\n",
    "            return False\n",
    "    return True\n",
    "\n",
    "n = input().rstrip().split()\n",
    "print(checkPermutation(n[0],n[1]))"
   ]
  },
  {
   "cell_type": "code",
   "execution_count": 7,
   "metadata": {},
   "outputs": [
    {
     "name": "stdout",
     "output_type": "stream",
     "text": [
      "1 2 3 4 5\n",
      "0\n"
     ]
    }
   ],
   "source": [
    "def eitherSideSum(nums) -> int:\n",
    "    total_sum = sum(nums)\n",
    "    l = len(nums)\n",
    "    left_sum, right_sum = 0,0\n",
    "    for i in range(1,l-1):\n",
    "        left_sum = nums[i-1] + left_sum\n",
    "        right_sum = total_sum - (left_sum + nums[i])\n",
    "        if left_sum == right_sum:\n",
    "            return nums[i]\n",
    "    return 0\n",
    "        \n",
    "n =  list(map(int,input().rstrip().split()))\n",
    "print(eitherSideSum(n))"
   ]
  },
  {
   "cell_type": "code",
   "execution_count": 5,
   "metadata": {},
   "outputs": [
    {
     "name": "stdout",
     "output_type": "stream",
     "text": [
      "0 0\n"
     ]
    }
   ],
   "source": [
    "a,b = 0,0\n",
    "print(a,b)"
   ]
  },
  {
   "cell_type": "code",
   "execution_count": null,
   "metadata": {},
   "outputs": [],
   "source": []
  }
 ],
 "metadata": {
  "kernelspec": {
   "display_name": "Python 3",
   "language": "python",
   "name": "python3"
  },
  "language_info": {
   "codemirror_mode": {
    "name": "ipython",
    "version": 3
   },
   "file_extension": ".py",
   "mimetype": "text/x-python",
   "name": "python",
   "nbconvert_exporter": "python",
   "pygments_lexer": "ipython3",
   "version": "3.6.9"
  }
 },
 "nbformat": 4,
 "nbformat_minor": 2
}
