{
 "cells": [
  {
   "cell_type": "code",
   "execution_count": 1,
   "metadata": {},
   "outputs": [
    {
     "name": "stdout",
     "output_type": "stream",
     "text": [
      "Hello World\n"
     ]
    }
   ],
   "source": [
    "print('Hello World')"
   ]
  },
  {
   "cell_type": "code",
   "execution_count": 2,
   "metadata": {},
   "outputs": [
    {
     "name": "stdout",
     "output_type": "stream",
     "text": [
      "True\n"
     ]
    }
   ],
   "source": [
    "a = 5 > 2\n",
    "print(a)"
   ]
  },
  {
   "cell_type": "code",
   "execution_count": 23,
   "metadata": {},
   "outputs": [
    {
     "name": "stdout",
     "output_type": "stream",
     "text": [
      "0 1 2 3 4 5 6 7 8 9 \n",
      "Yes\n",
      "No\n",
      "[0, 1, 2, 3, 4, 5, 6, 7, 8, 9]\n"
     ]
    }
   ],
   "source": [
    "mylist = []\n",
    "for i in range(10):\n",
    "    print(i,sep=',',end=\" \")\n",
    "    mylist.append(i)\n",
    "print()\n",
    "if 2 in mylist:\n",
    "    print('Yes')\n",
    "if 10 not in mylist:\n",
    "    print('No')\n",
    "print(mylist)"
   ]
  },
  {
   "cell_type": "code",
   "execution_count": 10,
   "metadata": {},
   "outputs": [
    {
     "name": "stdout",
     "output_type": "stream",
     "text": [
      "cherry\n",
      "['cherry', 'orange', 'kiwi']\n",
      "['cherry', 'orange', 'kiwi']\n",
      "['apple', 'banana', 'cherry', 'orange', 'kiwi']\n",
      "['kiwi', 'melon', 'mango']\n",
      "['apple', 'blackcurrant', 'cherry', 'orange', 'kiwi', 'melon', 'mango']\n"
     ]
    }
   ],
   "source": [
    "thislist = [\"apple\", \"banana\", \"cherry\"]\n",
    "print(thislist[-1])\n",
    "thislist2 = [\"apple\", \"banana\", \"cherry\", \"orange\", \"kiwi\", \"melon\", \"mango\"]\n",
    "print(thislist2[2:5])\n",
    "print(thislist2[-5:-2])\n",
    "print(thislist2[:5])\n",
    "print(thislist2[-3:])\n",
    "thislist2[1] = \"blackcurrant\"\n",
    "print(thislist2)"
   ]
  },
  {
   "cell_type": "code",
   "execution_count": 63,
   "metadata": {},
   "outputs": [
    {
     "name": "stdout",
     "output_type": "stream",
     "text": [
      "apple\n",
      "banana\n",
      "cherry\n",
      "orange\n",
      "kiwi\n",
      "melon\n",
      "mango\n",
      "apple banana cherry orange kiwi melon mango \n",
      "apple\n",
      "banana\n",
      "cherry\n",
      "orange\n",
      "kiwi\n",
      "melon\n",
      "mango\n"
     ]
    }
   ],
   "source": [
    "thislist = [\"apple\", \"banana\", \"cherry\", \"orange\", \"kiwi\", \"melon\", \"mango\"]\n",
    "for x in thislist:\n",
    "    print(x)\n",
    "for x in thislist:\n",
    "    print(x,end=\" \")\n",
    "print()\n",
    "print(*thislist,sep='\\n')"
   ]
  },
  {
   "cell_type": "code",
   "execution_count": 35,
   "metadata": {},
   "outputs": [
    {
     "name": "stdout",
     "output_type": "stream",
     "text": [
      "[[0, 0, 0], [0, 1, 1], [1, 0, 1], [1, 1, 0], [1, 1, 1]]\n",
      "[[0, 0, 0], [0, 1, 1], [1, 0, 1], [1, 1, 0], [1, 1, 1]]\n"
     ]
    }
   ],
   "source": [
    "x = 1\n",
    "y = 1\n",
    "z = 1\n",
    "n = 1 \n",
    "\n",
    "result_list=[]\n",
    "for i in range(x+1):\n",
    "    for j in range(y+1):\n",
    "        for k in range(z+1):\n",
    "            sub_list = [i,j,k]\n",
    "            if i+j+k != n:\n",
    "                result_list.append(sub_list)\n",
    "            #print(i,j,k)           \n",
    "print(result_list)\n",
    "\n",
    "result_list2 = [[i,j,k] for i in range(x+1) for j in range(y+1) for k in range(z+1) if (i+j+k) != n]\n",
    "print(result_list2)"
   ]
  },
  {
   "cell_type": "code",
   "execution_count": 49,
   "metadata": {},
   "outputs": [
    {
     "name": "stdout",
     "output_type": "stream",
     "text": [
      "1 2 3 4 5 6 6\n",
      "[1, 2, 3, 4, 5, 6]\n",
      "<class 'list'>\n",
      "{1, 2, 3, 4, 5, 6}\n",
      "<class 'set'>\n"
     ]
    }
   ],
   "source": [
    "arr = list(set(map(int, input().split())))\n",
    "print(arr)\n",
    "print(type(arr))\n",
    "\n",
    "myset=set(arr)\n",
    "print(myset)\n",
    "print(type(myset))"
   ]
  },
  {
   "cell_type": "code",
   "execution_count": 61,
   "metadata": {},
   "outputs": [
    {
     "name": "stdout",
     "output_type": "stream",
     "text": [
      "1 2 3 4 3 2\n",
      "3\n"
     ]
    }
   ],
   "source": [
    "arr = list(set((map(int, input().split()))))\n",
    "arr.sort()\n",
    "#print(arr)\n",
    "print(arr[-2])"
   ]
  },
  {
   "cell_type": "code",
   "execution_count": 59,
   "metadata": {},
   "outputs": [
    {
     "name": "stdout",
     "output_type": "stream",
     "text": [
      "1 2 3 4 3 2\n",
      "3\n"
     ]
    }
   ],
   "source": [
    "arr = list((map(int, input().split())))\n",
    "result_arr = []\n",
    "max_number = max(arr)\n",
    "for x in arr:\n",
    "    if x != max_number:\n",
    "        result_arr.append(x)\n",
    "print(max(result_arr))"
   ]
  },
  {
   "cell_type": "code",
   "execution_count": 70,
   "metadata": {},
   "outputs": [
    {
     "name": "stdout",
     "output_type": "stream",
     "text": [
      "brand\n",
      "model\n",
      "year\n",
      "Ford\n",
      "Mustang\n",
      "2018\n",
      "Ford\n",
      "Mustang\n",
      "2018\n",
      "brand Ford\n",
      "model Mustang\n",
      "year 2018\n"
     ]
    }
   ],
   "source": [
    "thisdict = {\n",
    "  \"brand\": \"Ford\",\n",
    "  \"model\": \"Mustang\",\n",
    "  \"year\": 1964\n",
    "}\n",
    "thisdict[\"year\"] = 2018\n",
    "for x in thisdict:\n",
    "    print(x)\n",
    "for x in thisdict:\n",
    "    print(thisdict[x])\n",
    "for x in thisdict.values():\n",
    "    print(x)\n",
    "for x, y in thisdict.items():\n",
    "    print(x, y)"
   ]
  },
  {
   "cell_type": "code",
   "execution_count": 79,
   "metadata": {},
   "outputs": [
    {
     "name": "stdout",
     "output_type": "stream",
     "text": [
      "0\n",
      "1\n",
      "3\n",
      "6\n",
      "6\n"
     ]
    }
   ],
   "source": [
    "ans = 0 \n",
    "for x in range(4):\n",
    "    ans += x\n",
    "    print(ans)\n",
    "print(ans)"
   ]
  },
  {
   "cell_type": "code",
   "execution_count": 84,
   "metadata": {},
   "outputs": [
    {
     "name": "stdout",
     "output_type": "stream",
     "text": [
      "['-', '1', '2', '1']\n",
      "['1', '2', '1', '-']\n",
      "no\n"
     ]
    }
   ],
   "source": [
    "n = -121\n",
    "\n",
    "x = list(str(n))\n",
    "y = x[::-1]\n",
    "print(x)\n",
    "print(y)\n",
    "if x == y:\n",
    "    print('yes')\n",
    "else:\n",
    "    print('no')\n"
   ]
  },
  {
   "cell_type": "code",
   "execution_count": 85,
   "metadata": {},
   "outputs": [],
   "source": [
    "#111519"
   ]
  },
  {
   "cell_type": "code",
   "execution_count": 112,
   "metadata": {},
   "outputs": [
    {
     "name": "stdout",
     "output_type": "stream",
     "text": [
      "['H', 'a', 'c', 'k', 'e', 'r', 'R', 'a', 'n', 'k', '.', 'c', 'o', 'm']\n",
      "hACKERrANK.COM \n"
     ]
    }
   ],
   "source": [
    "def swap_case(s):\n",
    "    line = s.split()\n",
    "    ans =''\n",
    "    for l in line:\n",
    "        list_word = list(l)\n",
    "        print(list_word)\n",
    "        for lw in list_word:\n",
    "            if lw.islower():\n",
    "                ans += lw.upper()\n",
    "            elif lw.isupper():\n",
    "                ans += lw.lower()\n",
    "            else:\n",
    "                ans += lw\n",
    "        ans += \" \"\n",
    "    return ans      \n",
    "\n",
    "s = 'HackerRank.com'\n",
    "result = swap_case(s)\n",
    "print(result)"
   ]
  },
  {
   "cell_type": "code",
   "execution_count": null,
   "metadata": {},
   "outputs": [],
   "source": [
    "\n",
    "        \n",
    "#symbol = ['I','V','X','L','C','D','M']\n",
    "#value = [1,5,10,50,100,500,1000]\n",
    "#symbol_dict = {}\n",
    "#for i in range(7):\n",
    "#   symbol_dict[i]=value[i]\n",
    "\n",
    "rn = 'IV'\n",
    "roman_number = list(rn)\n",
    "print(type(roman_number))\n",
    "symbol_dict = {'I':1, 'V':5, 'X':10, 'L':50, 'C':100, 'D':500, 'M':1000}\n",
    "\n",
    "integer_number = 0\n",
    "l = len(roman_number)\n",
    "i=0\n",
    "while i < l-1:\n",
    "    if roman_number[i] == 'I' and roman_number[i+1] == 'V':\n",
    "        integer_number += 4\n",
    "        i+=2\n",
    "print(integer_number)\n",
    "    "
   ]
  },
  {
   "cell_type": "code",
   "execution_count": 1,
   "metadata": {},
   "outputs": [],
   "source": [
    "#111919"
   ]
  },
  {
   "cell_type": "code",
   "execution_count": 4,
   "metadata": {},
   "outputs": [
    {
     "name": "stdout",
     "output_type": "stream",
     "text": [
      "13.26\n"
     ]
    }
   ],
   "source": [
    "print(13*(1+2/100))"
   ]
  },
  {
   "cell_type": "raw",
   "metadata": {},
   "source": [
    "round(12.55)"
   ]
  },
  {
   "cell_type": "raw",
   "metadata": {},
   "source": [
    "print(12)"
   ]
  },
  {
   "cell_type": "code",
   "execution_count": 5,
   "metadata": {},
   "outputs": [
    {
     "data": {
      "text/plain": [
       "13"
      ]
     },
     "execution_count": 5,
     "metadata": {},
     "output_type": "execute_result"
    }
   ],
   "source": [
    "round(12.55)"
   ]
  },
  {
   "cell_type": "code",
   "execution_count": null,
   "metadata": {},
   "outputs": [],
   "source": []
  }
 ],
 "metadata": {
  "kernelspec": {
   "display_name": "Python 3",
   "language": "python",
   "name": "python3"
  },
  "language_info": {
   "codemirror_mode": {
    "name": "ipython",
    "version": 3
   },
   "file_extension": ".py",
   "mimetype": "text/x-python",
   "name": "python",
   "nbconvert_exporter": "python",
   "pygments_lexer": "ipython3",
   "version": "3.7.4"
  }
 },
 "nbformat": 4,
 "nbformat_minor": 2
}
