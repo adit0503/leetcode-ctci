{
 "cells": [
  {
   "cell_type": "markdown",
   "metadata": {},
   "source": [
    "# Explore Data Structure - Arrays & Strings\n",
    "\n",
    "#724. [Find Pivot Index](#724)\n",
    "#747. [Largest Number At Least Twice of Others](#747)\n",
    "#66. [Plus One](#66)"
   ]
  },
  {
   "cell_type": "code",
   "execution_count": null,
   "metadata": {},
   "outputs": [],
   "source": []
  },
  {
   "cell_type": "markdown",
   "metadata": {},
   "source": [
    "<a id='724'></a>\n",
    "## 724. Find Pivot Index\n",
    "\n",
    "#### Given an array of integers nums, write a method that returns the \"pivot\" index of this array. We define the pivot index as the index where the sum of the numbers to the left of the index is equal to the sum of the numbers to the right of the index. If no such index exists, we should return -1. If there are multiple pivot indexes, you should return the left-most pivot index.\n",
    "\n",
    "###### O(n2) "
   ]
  },
  {
   "cell_type": "code",
   "execution_count": null,
   "metadata": {},
   "outputs": [],
   "source": [
    "def pivotIndex(nums) -> int:\n",
    "\n",
    "    l = len(nums)\n",
    "    for i in range(0,l-1):\n",
    "        if sum(nums[:i]) == sum(nums[-(l-i-1):]): #note: time complexity of sum() is O(n)\n",
    "            return i\n",
    "\n",
    "    if sum(nums[-l:-1]) == 0:\n",
    "        return l-1\n",
    "\n",
    "    return -1\n",
    "\n",
    "num = [-1,-1,-1,1,1,1]\n",
    "print(pivotIndex(num))"
   ]
  },
  {
   "cell_type": "markdown",
   "metadata": {},
   "source": [
    "###### O(n) "
   ]
  },
  {
   "cell_type": "code",
   "execution_count": null,
   "metadata": {},
   "outputs": [],
   "source": [
    "def pivotIndex(nums) -> int:\n",
    "\n",
    "    full_sum = sum(nums)\n",
    "    l = len(nums)\n",
    "\n",
    "    sum1 = 0\n",
    "    for i in range(l):\n",
    "        sum2 = full_sum - (sum1 + nums[i])\n",
    "        if sum1 == sum2:\n",
    "            return i\n",
    "        sum1 += nums[i]\n",
    "\n",
    "    return -1\n",
    "\n",
    "num = []\n",
    "print(pivotIndex(num))"
   ]
  },
  {
   "cell_type": "markdown",
   "metadata": {},
   "source": [
    "###### O(n)  - fastest"
   ]
  },
  {
   "cell_type": "code",
   "execution_count": null,
   "metadata": {},
   "outputs": [],
   "source": [
    "def pivotIndex(nums) -> int:\n",
    "\n",
    "    full_sum = sum(nums)\n",
    "    l = len(nums)\n",
    "\n",
    "    temp_sum = 0\n",
    "    for i in range(l):\n",
    "        if (full_sum - nums[i]) % 2 == 0: \n",
    "            if nums[i] == (full_sum - 2*temp_sum):\n",
    "                return i\n",
    "        temp_sum += nums[i]\n",
    "\n",
    "    return -1\n",
    "\n",
    "num = []\n",
    "print(pivotIndex(num))"
   ]
  },
  {
   "cell_type": "markdown",
   "metadata": {},
   "source": [
    "<a id='747'></a>\n",
    "## 747. Largest Number At Least Twice of Others\n",
    "\n",
    "#### In a given integer array nums, there is always exactly one largest element. Find whether the largest element in the array is at least twice as much as every other number in the array. If it is, return the index of the largest element, otherwise return -1.\n",
    "\n",
    "###### O(n)"
   ]
  },
  {
   "cell_type": "code",
   "execution_count": null,
   "metadata": {},
   "outputs": [],
   "source": [
    "def dominantIndex(nums) -> int:\n",
    "    max_num = max(nums)\n",
    "    ans = nums.index(max_num)\n",
    "    nums.remove(max_num)\n",
    "    for n in nums:\n",
    "        if max_num < 2*n:\n",
    "            return -1\n",
    "    return ans\n",
    "\n",
    "num = [3, 6, 1, 0]\n",
    "print(dominantIndex(num))"
   ]
  },
  {
   "cell_type": "markdown",
   "metadata": {},
   "source": [
    "<a id=\"66\"></a>\n",
    "## 66. Plus One\n",
    "\n",
    "#### Given a non-empty array of digits representing a non-negative integer, plus one to the integer. The digits are stored such that the most significant digit is at the head of the list, and each element in the array contain a single digit. You may assume the integer does not contain any leading zero, except the number 0 itself.\n",
    "\n",
    "###### O(n)"
   ]
  },
  {
   "cell_type": "code",
   "execution_count": null,
   "metadata": {},
   "outputs": [],
   "source": [
    "def plusOne(self, digits: List[int]) -> List[int]:\n",
    "\n",
    "    ans = []\n",
    "    n = len(digits)\n",
    "    carry = 1\n",
    "    for i in range(1,n+1):\n",
    "        sum = digits[-i]+carry\n",
    "        ans.append(int(sum%10))\n",
    "        carry = int(sum/10)\n",
    "\n",
    "    x = all(d == 0 for d in ans)\n",
    "    if x:\n",
    "        ans.append(1)\n",
    "\n",
    "    ans.reverse()\n",
    "    return ans\n",
    "\n",
    "num = [3, 6, 1, 0]\n",
    "print(plusOne(num))"
   ]
  }
 ],
 "metadata": {
  "kernelspec": {
   "display_name": "Python 3",
   "language": "python",
   "name": "python3"
  },
  "language_info": {
   "codemirror_mode": {
    "name": "ipython",
    "version": 3
   },
   "file_extension": ".py",
   "mimetype": "text/x-python",
   "name": "python",
   "nbconvert_exporter": "python",
   "pygments_lexer": "ipython3",
   "version": "3.6.9"
  }
 },
 "nbformat": 4,
 "nbformat_minor": 4
}
