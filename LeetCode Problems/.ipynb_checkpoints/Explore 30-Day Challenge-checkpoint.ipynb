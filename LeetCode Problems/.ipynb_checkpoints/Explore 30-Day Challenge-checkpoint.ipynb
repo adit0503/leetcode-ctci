{
 "cells": [
  {
   "cell_type": "markdown",
   "metadata": {},
   "source": [
    "# Explore 30-Day Challenge\n",
    "\n",
    "#136. [Single Number](#136) - Apr 01, 2020\n",
    "#202. [Happy Number](#202) - Apr 02, 2020"
   ]
  },
  {
   "cell_type": "markdown",
   "metadata": {},
   "source": [
    "<a id='136'></a>\n",
    "## 136. [Single Number](https://leetcode.com/problems/single-number/)\n",
    "#### Given a non-empty array of integers, every element appears twice except for one. Find that single one. Note: Your algorithm should have a linear runtime complexity. Could you implement it without using extra memory?\n",
    "###### O(n)"
   ]
  },
  {
   "cell_type": "code",
   "execution_count": null,
   "metadata": {},
   "outputs": [],
   "source": [
    "class Solution:\n",
    "    def singleNumber(self, nums: List[int]) -> int:\n",
    "        \n",
    "        nums_set = set(nums)\n",
    "        ans = 2*sum(nums_set) - sum(nums)\n",
    "        return ans"
   ]
  },
  {
   "cell_type": "markdown",
   "metadata": {},
   "source": [
    "<a id='202'></a>\n",
    "## 202. [Happy Number](https://leetcode.com/problems/happy-number/)\n",
    "\n",
    "#### Write an algorithm to determine if a number is \"happy\". A happy number is a number defined by the following process: Starting with any positive integer, replace the number by the sum of the squares of its digits, and repeat the process until the number equals 1 (where it will stay), or it loops endlessly in a cycle which does not include 1. Those numbers for which this process ends in 1 are happy numbers.\n",
    "\n",
    "###### O(n)"
   ]
  },
  {
   "cell_type": "code",
   "execution_count": null,
   "metadata": {},
   "outputs": [],
   "source": [
    "class Solution:\n",
    "    def digits_list(n):\n",
    "        digits = []\n",
    "        while(n != 0):\n",
    "            digits.append(n%10)\n",
    "            n = n // 10\n",
    "        return digits\n",
    "\n",
    "    def isHappy(self,n: int) -> bool:\n",
    "        temp = set()\n",
    "        while(True):\n",
    "            digits = Solution.digits_list(n)\n",
    "            digits_sum = 0\n",
    "            for i in digits:\n",
    "                digits_sum += i*i\n",
    "            if digits_sum == 1:\n",
    "                return True\n",
    "\n",
    "            if digits_sum  in temp:\n",
    "                return False\n",
    "            temp.add(digits_sum)    \n",
    "            n = digits_sum\n",
    "        return False"
   ]
  }
 ],
 "metadata": {
  "kernelspec": {
   "display_name": "Python 3",
   "language": "python",
   "name": "python3"
  },
  "language_info": {
   "codemirror_mode": {
    "name": "ipython",
    "version": 3
   },
   "file_extension": ".py",
   "mimetype": "text/x-python",
   "name": "python",
   "nbconvert_exporter": "python",
   "pygments_lexer": "ipython3",
   "version": "3.6.9"
  }
 },
 "nbformat": 4,
 "nbformat_minor": 4
}
