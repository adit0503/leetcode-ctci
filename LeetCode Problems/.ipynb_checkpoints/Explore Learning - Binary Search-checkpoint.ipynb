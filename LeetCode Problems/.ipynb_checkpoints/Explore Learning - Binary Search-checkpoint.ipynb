{
 "cells": [
  {
   "cell_type": "markdown",
   "metadata": {},
   "source": [
    "# Explore Learning - Binary Search\n",
    "\n",
    "#704. [Binary Search](#704)\n",
    "#069. [Sqrt(x)](#69)\n",
    "#374. [Guess Number Higher or Lower](#374)\n",
    "#033. [Search in Rotated Sorted Array](#33)\n",
    "#. [](#)\n",
    "#. [](#)\n",
    "#. [](#)"
   ]
  },
  {
   "cell_type": "code",
   "execution_count": null,
   "metadata": {},
   "outputs": [],
   "source": [
    "<a id=''></a>\n",
    "##\n",
    "\n",
    "####\n",
    "\n",
    "######"
   ]
  },
  {
   "cell_type": "markdown",
   "metadata": {},
   "source": [
    "<a id='704'></a>\n",
    "## [704. Binary Search](https://leetcode.com/problems/binary-search/)\n",
    "\n",
    "#### Given a sorted (in ascending order) integer array nums of n elements and a target value, write a function to search target in nums. If target exists, then return its index, otherwise return -1.\n",
    "\n",
    "###### O(logn)"
   ]
  },
  {
   "cell_type": "code",
   "execution_count": null,
   "metadata": {},
   "outputs": [],
   "source": [
    "def search(self, nums: List[int], target: int) -> int:\n",
    "        \n",
    "        left = 0\n",
    "        right = len(nums)-1\n",
    "        \n",
    "        while(left <= right):\n",
    "            mid = int((left+right)/2)\n",
    "            \n",
    "            if nums[mid] == target:\n",
    "                return mid\n",
    "            \n",
    "            if (nums[mid] > target):\n",
    "                right = mid -1\n",
    "            else:\n",
    "                left = mid + 1\n",
    "            \n",
    "        return -1"
   ]
  },
  {
   "cell_type": "code",
   "execution_count": null,
   "metadata": {},
   "outputs": [],
   "source": [
    "def search(self, nums: List[int], target: int) -> int:\n",
    "\n",
    "    index = bisect.bisect_left(nums,target)\n",
    "    if index < len(nums) and nums[index] == target:\n",
    "        return index\n",
    "    return -1"
   ]
  },
  {
   "cell_type": "markdown",
   "metadata": {},
   "source": [
    "<a id='69'></a>\n",
    "## 69. Sqrt(x)\n",
    "\n",
    "#### Implement int sqrt(int x). Compute and return the square root of x, where x is guaranteed to be a non-negative integer. Since the return type is an integer, the decimal digits are truncated and only the integer part of the result is returned.\n",
    "\n",
    "###### O(logn)"
   ]
  },
  {
   "cell_type": "code",
   "execution_count": null,
   "metadata": {},
   "outputs": [],
   "source": [
    "def mySqrt(self, x: int) -> int:\n",
    "\n",
    "    left = 0\n",
    "    right = x\n",
    "\n",
    "    while(left <= right):\n",
    "        mid = (left + right) // 2\n",
    "\n",
    "        if mid*mid <= x < (mid+1)*(mid+1):\n",
    "            return mid\n",
    "\n",
    "        if mid*mid > x:\n",
    "            right = mid\n",
    "        else:\n",
    "            left = mid + 1"
   ]
  },
  {
   "cell_type": "markdown",
   "metadata": {},
   "source": [
    "<a id='374'></a>\n",
    "## 374. Guess Number Higher or Lower\n",
    "\n",
    "#### We are playing the Guess Game. The game is as follows: I pick a number from 1 to n. You have to guess which number I picked. Every time you guess wrong, I'll tell you whether the number is higher or lower. You call a pre-defined API guess(int num) which returns 3 possible results (-1, 1, or 0):\n",
    "\n",
    "###### O(logn)"
   ]
  },
  {
   "cell_type": "code",
   "execution_count": null,
   "metadata": {},
   "outputs": [],
   "source": [
    "def guessNumber(self, n: int) -> int:\n",
    "    left = 0\n",
    "    right = n\n",
    "\n",
    "    while(left <= right):\n",
    "        m = (left+right) // 2\n",
    "\n",
    "        if(guess(m) == 0):\n",
    "            return m\n",
    "        if(guess(m) == -1):\n",
    "            right = m-1\n",
    "        else:\n",
    "            left = m+1"
   ]
  },
  {
   "cell_type": "markdown",
   "metadata": {},
   "source": [
    "<a id='33'></a>\n",
    "## [33. Search in Rotated Sorted Array](https://leetcode.com/problems/search-in-rotated-sorted-array/)\n",
    "\n",
    "#### Suppose an array sorted in ascending order is rotated at some pivot unknown to you beforehand. (i.e., [0,1,2,4,5,6,7] might become [4,5,6,7,0,1,2]). You are given a target value to search. If found in the array return its index, otherwise return -1. You may assume no duplicate exists in the array. Your algorithm's runtime complexity must be in the order of O(log n).\n",
    "\n",
    "###### O(logn)"
   ]
  },
  {
   "cell_type": "code",
   "execution_count": null,
   "metadata": {},
   "outputs": [],
   "source": []
  },
  {
   "cell_type": "code",
   "execution_count": null,
   "metadata": {},
   "outputs": [],
   "source": [
    "<a id=''></a>\n",
    "##\n",
    "\n",
    "####\n",
    "\n",
    "######"
   ]
  },
  {
   "cell_type": "code",
   "execution_count": null,
   "metadata": {},
   "outputs": [],
   "source": [
    "<a id=''></a>\n",
    "##\n",
    "\n",
    "####\n",
    "\n",
    "######"
   ]
  }
 ],
 "metadata": {
  "kernelspec": {
   "display_name": "Python 3",
   "language": "python",
   "name": "python3"
  },
  "language_info": {
   "codemirror_mode": {
    "name": "ipython",
    "version": 3
   },
   "file_extension": ".py",
   "mimetype": "text/x-python",
   "name": "python",
   "nbconvert_exporter": "python",
   "pygments_lexer": "ipython3",
   "version": "3.6.9"
  }
 },
 "nbformat": 4,
 "nbformat_minor": 4
}
