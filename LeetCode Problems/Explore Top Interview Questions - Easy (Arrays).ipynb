{
 "cells": [
  {
   "cell_type": "markdown",
   "metadata": {},
   "source": [
    "# Explore Top Interview Questions - Easy (Arrays)\n",
    "\n",
    "#26. [Remove Duplicates from Sorted Array](#26)\n",
    "#121. [Best Time to Buy and Sell Stock](#121)\n",
    "#122. [Best Time to Buy and Sell Stock II](#122)\n",
    "#189. [Rotate Array](#189)\n",
    "#217. [Contains Duplicate](#217)\n",
    "#136. [Single Number](#136)\n",
    "#349. [Intersection of Two Arrays](#349)\n",
    "#350. [Intersection of Two Arrays II](#350)"
   ]
  },
  {
   "cell_type": "code",
   "execution_count": null,
   "metadata": {},
   "outputs": [],
   "source": [
    "<a id=''></a>\n",
    "##\n",
    "\n",
    "####\n",
    "\n",
    "######"
   ]
  },
  {
   "cell_type": "markdown",
   "metadata": {},
   "source": [
    "<a id=\"26\"></a>\n",
    "## 26. Remove Duplicates from Sorted Array\n",
    "\n",
    "#### Given a sorted array nums, remove the duplicates in-place such that each element appear only once and return the new length. Do not allocate extra space for another array, you must do this by modifying the input array in-place with O(1) extra memory.\n",
    "\n",
    "###### O(n)"
   ]
  },
  {
   "cell_type": "code",
   "execution_count": null,
   "metadata": {},
   "outputs": [],
   "source": [
    "def removeDuplicates(self, nums: List[int]) -> int:\n",
    "    i,j =0,1\n",
    "    length = len(nums)\n",
    "\n",
    "    for j in range(length):\n",
    "        if nums[j] != nums[i]:\n",
    "            nums[i+1] = nums[j]\n",
    "            i += 1\n",
    "    return i+1"
   ]
  },
  {
   "cell_type": "markdown",
   "metadata": {},
   "source": [
    "<a id=\"121\"></a>\n",
    "## 121. Best Time to Buy and Sell Stock\n",
    "\n",
    "#### Say you have an array for which the ith element is the price of a given stock on day i. If you were only permitted to complete at most one transaction (i.e., buy one and sell one share of the stock), design an algorithm to find the maximum profit. Note that you cannot sell a stock before you buy one.\n",
    "\n",
    "######"
   ]
  },
  {
   "cell_type": "code",
   "execution_count": null,
   "metadata": {},
   "outputs": [],
   "source": []
  },
  {
   "cell_type": "markdown",
   "metadata": {},
   "source": [
    "<a id=\"122\"></a>\n",
    "## 122. Best Time to Buy and Sell Stock II\n",
    "\n",
    "#### Say you have an array for which the ith element is the price of a given stock on day i. Design an algorithm to find the maximum profit. You may complete as many transactions as you like (i.e., buy one and sell one share of the stock multiple times). Note: You may not engage in multiple transactions at the same time (i.e., you must sell the stock before you buy again).\n",
    "\n",
    "######"
   ]
  },
  {
   "cell_type": "code",
   "execution_count": null,
   "metadata": {},
   "outputs": [],
   "source": []
  },
  {
   "cell_type": "markdown",
   "metadata": {},
   "source": [
    "<a id='189'></a>\n",
    "## 189. Rotate Array\n",
    "\n",
    "#### Given an array, rotate the array to the right by k steps, where k is non-negative.\n",
    "\n",
    "###### O(k*n)"
   ]
  },
  {
   "cell_type": "code",
   "execution_count": null,
   "metadata": {},
   "outputs": [],
   "source": [
    "def rotate(self, nums: List[int], k: int) -> None:\n",
    "    \"\"\"\n",
    "    Do not return anything, modify nums in-place instead.\n",
    "    \"\"\"\n",
    "    l = len(nums)\n",
    "    while(k>0):\n",
    "        temp = nums[-1]\n",
    "        nums[1:l] = nums[0:l-1]\n",
    "        nums[0] = temp\n",
    "        k -= 1"
   ]
  },
  {
   "cell_type": "markdown",
   "metadata": {},
   "source": [
    "###### O(n) "
   ]
  },
  {
   "cell_type": "code",
   "execution_count": null,
   "metadata": {},
   "outputs": [],
   "source": [
    "def rotate(self, nums: List[int], k: int) -> None:\n",
    "    \"\"\"\n",
    "    Do not return anything, modify nums in-place instead.\n",
    "    \"\"\"\n",
    "    l = len(nums)\n",
    "    temp = [] #use seperate array\n",
    "    for i in range(l):\n",
    "        temp.insert((i+k)%l, nums[i])\n",
    "    nums[0:l] = temp[0:l]"
   ]
  },
  {
   "cell_type": "markdown",
   "metadata": {},
   "source": [
    "<a id='217'></a>\n",
    "## 217. Contains Duplicate\n",
    "\n",
    "#### Given an array of integers, find if the array contains any duplicates. Your function should return true if any value appears at least twice in the array, and it should return false if every element is distinct.\n",
    "\n",
    "###### O(1)"
   ]
  },
  {
   "cell_type": "code",
   "execution_count": null,
   "metadata": {},
   "outputs": [],
   "source": [
    "def containsDuplicate(self, nums: List[int]) -> bool:\n",
    "    nums_set = set(nums)\n",
    "    if len(nums) == len(nums_set):\n",
    "        return False\n",
    "    return True"
   ]
  },
  {
   "cell_type": "markdown",
   "metadata": {},
   "source": [
    "###### O(n2) - brute force"
   ]
  },
  {
   "cell_type": "code",
   "execution_count": null,
   "metadata": {},
   "outputs": [],
   "source": [
    "def containsDuplicate(self, nums: List[int]) -> bool:\n",
    "\n",
    "    l=len(nums)\n",
    "    for i in range(l):\n",
    "        for j in range(i+1,l):\n",
    "            if nums[i] == nums[j]:\n",
    "                return True\n",
    "    return False"
   ]
  },
  {
   "cell_type": "markdown",
   "metadata": {},
   "source": [
    "###### O(nlogn) - sorting"
   ]
  },
  {
   "cell_type": "code",
   "execution_count": null,
   "metadata": {},
   "outputs": [],
   "source": [
    "def containsDuplicate(self, nums: List[int]) -> bool:\n",
    "\n",
    "    l = len(nums)\n",
    "    nums.sort()\n",
    "    for i in range(l-1):\n",
    "        if nums[i] == nums[i+1]:\n",
    "            return True\n",
    "    return False"
   ]
  },
  {
   "cell_type": "markdown",
   "metadata": {},
   "source": [
    "<a id='136'></a>\n",
    "## 136. Single Number\n",
    "\n",
    "#### Given a non-empty array of integers, every element appears twice except for one. Find that single one. Note: Your algorithm should have a linear runtime complexity. Could you implement it without using extra memory?\n",
    "\n",
    "###### O(n) - hast table"
   ]
  },
  {
   "cell_type": "code",
   "execution_count": null,
   "metadata": {},
   "outputs": [],
   "source": [
    "def singleNumber(self, nums: List[int]) -> int:\n",
    "    nums_dict = {}\n",
    "    for n in nums:\n",
    "        if n in nums_dict.keys():\n",
    "            nums_dict[n] += 1\n",
    "        else:\n",
    "            nums_dict[n] = 1\n",
    "\n",
    "    for k in nums_dict.keys():\n",
    "        if nums_dict[k] == 1:\n",
    "            return k\n",
    "\n",
    "    return -1"
   ]
  },
  {
   "cell_type": "markdown",
   "metadata": {},
   "source": [
    "###### O(n2) - stack"
   ]
  },
  {
   "cell_type": "code",
   "execution_count": null,
   "metadata": {},
   "outputs": [],
   "source": [
    "def singleNumber(self, nums: List[int]) -> int:\n",
    "\n",
    "    temp = []\n",
    "    for n in nums:\n",
    "        if n not in temp:\n",
    "            temp.append(n)\n",
    "        else:\n",
    "            temp.remove(n)\n",
    "    ans = temp.pop()\n",
    "    return ans"
   ]
  },
  {
   "cell_type": "markdown",
   "metadata": {},
   "source": [
    "###### O(n) - set, sum "
   ]
  },
  {
   "cell_type": "code",
   "execution_count": null,
   "metadata": {},
   "outputs": [],
   "source": [
    "def singleNumber(self, nums: List[int]) -> int:\n",
    "\n",
    "    nums_set = set(nums)\n",
    "    ans = 2*sum(nums_set) - sum(nums)\n",
    "    return ans"
   ]
  },
  {
   "cell_type": "markdown",
   "metadata": {},
   "source": [
    "<a id='349'></a>\n",
    "## 349. Intersection of Two Arrays\n",
    "\n",
    "#### Given two arrays, write a function to compute their intersection.\n",
    "\n",
    "###### O(n*m) - set operation"
   ]
  },
  {
   "cell_type": "code",
   "execution_count": null,
   "metadata": {},
   "outputs": [],
   "source": [
    "def intersection(self, nums1: List[int], nums2: List[int]) -> List[int]:\n",
    "    ans = []\n",
    "    nums1_set = set(nums1)\n",
    "    nums2_set = set(nums2)\n",
    "\n",
    "    for n in nums2_set:\n",
    "        if n in nums1_set:\n",
    "            ans.append(n)\n",
    "\n",
    "    return ans"
   ]
  },
  {
   "cell_type": "markdown",
   "metadata": {},
   "source": [
    "<a id='350'></a>\n",
    "## 350. Intersection of Two Arrays II\n",
    "\n",
    "#### Given two arrays, write a function to compute their intersection. Note: Each element in the result should appear as many times as it shows in both arrays. The result can be in any order.\n",
    "\n",
    "###### o(n*m) "
   ]
  },
  {
   "cell_type": "code",
   "execution_count": null,
   "metadata": {},
   "outputs": [],
   "source": [
    "def intersect(self, nums1: List[int], nums2: List[int]) -> List[int]:\n",
    "\n",
    "    if len(nums1) < len(nums2):\n",
    "        temp1=nums1\n",
    "        temp2=nums2\n",
    "    else:\n",
    "        temp1=nums1\n",
    "        temp2=nums2\n",
    "    ans = []\n",
    "\n",
    "    for x in temp1:\n",
    "        if x in temp2:\n",
    "            ans.append(x)\n",
    "            temp2.remove(x)\n",
    "    return ans"
   ]
  }
 ],
 "metadata": {
  "kernelspec": {
   "display_name": "Python 3",
   "language": "python",
   "name": "python3"
  },
  "language_info": {
   "codemirror_mode": {
    "name": "ipython",
    "version": 3
   },
   "file_extension": ".py",
   "mimetype": "text/x-python",
   "name": "python",
   "nbconvert_exporter": "python",
   "pygments_lexer": "ipython3",
   "version": "3.6.9"
  }
 },
 "nbformat": 4,
 "nbformat_minor": 4
}
