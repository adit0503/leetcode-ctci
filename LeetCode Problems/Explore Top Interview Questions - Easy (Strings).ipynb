{
 "cells": [
  {
   "cell_type": "markdown",
   "metadata": {},
   "source": [
    "# Explore Top Interview Questions - Easy (Strings)\n",
    "\n",
    "#344. [Reverse String](#344)\n",
    "#007. [Reverse Integer](#7)\n",
    "#387. [First Unique Character in a String](#387)\n",
    "#242. [Valid Anagram](#242)\n",
    "#125. [Valid Palindrome](#125)\n",
    "#008. [String to Integer (atoi)](#8)\n",
    "#028. [Implement strStr()](#28)\n",
    "#038. [Count and Say](#38)\n",
    "#014. [Longest Common Prefix](#14)"
   ]
  },
  {
   "cell_type": "code",
   "execution_count": null,
   "metadata": {},
   "outputs": [],
   "source": [
    "<a id=''></a>\n",
    "##\n",
    "\n",
    "####\n",
    "\n",
    "######"
   ]
  },
  {
   "cell_type": "markdown",
   "metadata": {},
   "source": [
    "<a id='344'></a>\n",
    "## 344. Reverse String\n",
    "\n",
    "#### Write a function that reverses a string. The input string is given as an array of characters char[]. Do not allocate extra space for another array, you must do this by modifying the input array in-place with O(1) extra memory. You may assume all the characters consist of printable ascii characters.\n",
    "\n",
    "######"
   ]
  },
  {
   "cell_type": "code",
   "execution_count": null,
   "metadata": {},
   "outputs": [],
   "source": [
    "def reverseString(self, s: List[str]) -> None:\n",
    "    \"\"\"\n",
    "    Do not return anything, modify s in-place instead.\n",
    "    \"\"\"\n",
    "    first = 0\n",
    "    last = len(s)-1\n",
    "\n",
    "    while first<last:\n",
    "        temp = s[first]\n",
    "        s[first] = s[last]\n",
    "        s[last] = temp \n",
    "        first += 1\n",
    "        last -= 1"
   ]
  },
  {
   "cell_type": "markdown",
   "metadata": {},
   "source": [
    "<a id='7'></a>\n",
    "## 7. Reverse Integer\n",
    "\n",
    "#### Given a 32-bit signed integer, reverse digits of an integer. Note: Assume we are dealing with an environment which could only store integers within the 32-bit signed integer range: [−231,  231 − 1]. For the purpose of this problem, assume that your function returns 0 when the reversed integer overflows.\n",
    "\n",
    "###### "
   ]
  },
  {
   "cell_type": "code",
   "execution_count": null,
   "metadata": {},
   "outputs": [],
   "source": [
    "def reverse(self, x: int) -> int:\n",
    "\n",
    "    sign = 1\n",
    "    if x < 0:\n",
    "        sign = -1\n",
    "    x = x*sign\n",
    "\n",
    "    ans = 0\n",
    "    while(x>0):\n",
    "        q = x % 10\n",
    "        ans = ans*10 + q\n",
    "        x = int(x/10)\n",
    "\n",
    "    res = sign*ans\n",
    "    if res >= 2**31-1 or res <= -2**31:\n",
    "        return 0\n",
    "    return res"
   ]
  },
  {
   "cell_type": "markdown",
   "metadata": {},
   "source": [
    "<a id='387'></a>\n",
    "## 387. First Unique Character in a String\n",
    "\n",
    "#### Given a string, find the first non-repeating character in it and return it's index. If it doesn't exist, return -1. Note: You may assume the string contain only lowercase letters.\n",
    "\n",
    "###### "
   ]
  },
  {
   "cell_type": "code",
   "execution_count": null,
   "metadata": {},
   "outputs": [],
   "source": [
    "def firstUniqChar(self, s: str) -> int:\n",
    "\n",
    "    l = len(s)\n",
    "    for i in range(l):\n",
    "        if s.count(s[i]) == 1:\n",
    "            return i\n",
    "    return -1"
   ]
  },
  {
   "cell_type": "code",
   "execution_count": null,
   "metadata": {},
   "outputs": [],
   "source": [
    "def firstUniqChar(self, s: str) -> int:\n",
    "\n",
    "    s_dict = {}\n",
    "    for i in s:\n",
    "        if i in s_dict:\n",
    "            s_dict[i] += 1\n",
    "        else:\n",
    "            s_dict[i] = 1\n",
    "\n",
    "    l =len(s)\n",
    "    for i in range(l):\n",
    "        if s_dict[s[i]] == 1:\n",
    "            return i\n",
    "    return -1"
   ]
  },
  {
   "cell_type": "markdown",
   "metadata": {},
   "source": [
    "<a id='242'></a>\n",
    "## 242. Valid Anagram\n",
    "\n",
    "#### Given two strings s and t , write a function to determine if t is an anagram of s. Note: You may assume the string contains only lowercase alphabets. Follow up: What if the inputs contain unicode characters? How would you adapt your solution to such case?\n",
    "\n",
    "######"
   ]
  },
  {
   "cell_type": "code",
   "execution_count": null,
   "metadata": {},
   "outputs": [],
   "source": [
    "def isAnagram(self, s: str, t: str) -> bool:\n",
    "    s_dict = {}\n",
    "\n",
    "    if len(s) != len(t):\n",
    "        return False\n",
    "\n",
    "    for i in s:\n",
    "        if i in s_dict:\n",
    "            s_dict[i] += 1\n",
    "        else:\n",
    "            s_dict[i] = 1\n",
    "\n",
    "    for j in t:\n",
    "        if (j in s_dict) and (s_dict[j]) > 0:\n",
    "            s_dict[j] -= 1\n",
    "        else:\n",
    "            return False\n",
    "\n",
    "    return True"
   ]
  },
  {
   "cell_type": "markdown",
   "metadata": {},
   "source": [
    "<a id='125'></a>\n",
    "## 125. Valid Palindrome\n",
    "\n",
    "#### Given a string, determine if it is a palindrome, considering only alphanumeric characters and ignoring cases. Note: For the purpose of this problem, we define empty string as valid palindrome.\n",
    "\n",
    "######"
   ]
  },
  {
   "cell_type": "code",
   "execution_count": null,
   "metadata": {},
   "outputs": [],
   "source": [
    "def isPalindrome(self, s: str) -> bool:\n",
    "\n",
    "    if not s:\n",
    "        return True\n",
    "\n",
    "    s1 = s.lower()\n",
    "    temp=''\n",
    "    for i in s1:\n",
    "        if i.isalnum():\n",
    "            temp += i\n",
    "\n",
    "    return temp == temp[::-1]"
   ]
  },
  {
   "cell_type": "markdown",
   "metadata": {},
   "source": [
    "<a id='8'></a>\n",
    "## 8. String to Integer (atoi)\n",
    " \n",
    "#### Implement atoi which converts a string to an integer. The function first discards as many whitespace characters as necessary until the first non-whitespace character is found. Then, starting from this character, takes an optional initial plus or minus sign followed by as many numerical digits as possible, and interprets them as a numerical value. The string can contain additional characters after those that form the integral number, which are ignored and have no effect on the behavior of this function. If the first sequence of non-whitespace characters in str is not a valid integral number, or if no such sequence exists because either str is empty or it contains only whitespace characters, no conversion is performed. If no valid conversion could be performed, a zero value is returned.\n",
    "\n",
    "######"
   ]
  },
  {
   "cell_type": "code",
   "execution_count": null,
   "metadata": {},
   "outputs": [],
   "source": [
    "def myAtoi(self, s: str) -> int:\n",
    "\n",
    "    if len(s) == 0: \n",
    "        return 0\n",
    "\n",
    "    ls = list(s.strip())\n",
    "\n",
    "    if not ls:\n",
    "        return 0\n",
    "\n",
    "    sign = -1 if ls[0] == '-' else 1\n",
    "    if ls[0] in ['-','+'] : del ls[0]\n",
    "    ret, i = 0, 0\n",
    "    while i < len(ls) and ls[i].isdigit() :\n",
    "        ret = ret*10 + ord(ls[i]) - ord('0')\n",
    "        i += 1\n",
    "    return max(-2**31, min(sign * ret,2**31-1))"
   ]
  },
  {
   "cell_type": "markdown",
   "metadata": {},
   "source": [
    "<a id='28'></a>\n",
    "## 28. Implement strStr()\n",
    "\n",
    "#### Implement strStr(). Return the index of the first occurrence of needle in haystack, or -1 if needle is not part of haystack.\n",
    "\n",
    "######  O(s1*s2)"
   ]
  },
  {
   "cell_type": "code",
   "execution_count": null,
   "metadata": {},
   "outputs": [],
   "source": [
    "def strStr(self, haystack: str, needle: str) -> int:\n",
    "\n",
    "    len_needle = len(needle)\n",
    "    len_haystack = len(haystack)\n",
    "\n",
    "    for i in range(len_haystack-len_needle+1):\n",
    "        if haystack[i:i+len_needle] == needle:\n",
    "            return i\n",
    "\n",
    "    return -1"
   ]
  },
  {
   "cell_type": "markdown",
   "metadata": {},
   "source": [
    "<a id='38'></a>\n",
    "## 38. Count and Say\n",
    "\n",
    "#### The count-and-say sequence is the sequence of integers with the first five terms as following: Given an integer n where 1 ≤ n ≤ 30, generate the nth term of the count-and-say sequence. You can do so recursively, in other words from the previous member read off the digits, counting the number of digits in groups of the same digit. Note: Each term of the sequence of integers will be represented as a string.\n",
    "\n",
    "###### O(n*s)"
   ]
  },
  {
   "cell_type": "code",
   "execution_count": null,
   "metadata": {},
   "outputs": [],
   "source": [
    "def countAndSay(self, n: int) -> str:\n",
    "    s = '1'\n",
    "    for i in range(n-1):\n",
    "        count = 1\n",
    "        temp = []\n",
    "        for index in range(1, len(s)):\n",
    "            if s[index] == s[index-1]:\n",
    "                count += 1\n",
    "            else:\n",
    "                temp.append(str(count))\n",
    "                temp.append(s[index-1])\n",
    "                count = 1\n",
    "        temp.append(str(count))\n",
    "        temp.append(s[-1])\n",
    "        s = ''.join(temp)\n",
    "    return s"
   ]
  },
  {
   "cell_type": "markdown",
   "metadata": {},
   "source": [
    "<a id='14'></a>\n",
    "## 14. Longest Common Prefix\n",
    "\n",
    "#### Write a function to find the longest common prefix string amongst an array of strings. If there is no common prefix, return an empty string \"\".\n",
    "\n",
    "###### O(n*s)"
   ]
  },
  {
   "cell_type": "code",
   "execution_count": null,
   "metadata": {},
   "outputs": [],
   "source": [
    "def longestCommonPrefix(self, strs: List[str]) -> str:\n",
    "\n",
    "    if len(strs) == 0:\n",
    "        return \"\"\n",
    "\n",
    "    prefix = \"\"\n",
    "\n",
    "    for i in range(len(strs[0])):\n",
    "        c = strs[0][i]\n",
    "        for j in range(1,len(strs)):\n",
    "            if i >= len(strs[j]):\n",
    "                return prefix\n",
    "            if c != strs[j][i]:\n",
    "                return prefix\n",
    "        prefix += c\n",
    "\n",
    "    return prefix"
   ]
  },
  {
   "cell_type": "code",
   "execution_count": null,
   "metadata": {},
   "outputs": [],
   "source": [
    "def longestCommonPrefix(self, strs: List[str]) -> str:\n",
    "\n",
    "    if len(strs) == 0:\n",
    "        return \"\"\n",
    "\n",
    "    prefix = strs[0]\n",
    "\n",
    "    for i in range(1,len(strs)):\n",
    "        while(strs[i].find(prefix) != 0):\n",
    "            prefix = prefix[0:len(prefix)-1]\n",
    "\n",
    "        if len(prefix) == 0:\n",
    "            return \"\"\n",
    "\n",
    "    return prefix"
   ]
  }
 ],
 "metadata": {
  "kernelspec": {
   "display_name": "Python 3",
   "language": "python",
   "name": "python3"
  },
  "language_info": {
   "codemirror_mode": {
    "name": "ipython",
    "version": 3
   },
   "file_extension": ".py",
   "mimetype": "text/x-python",
   "name": "python",
   "nbconvert_exporter": "python",
   "pygments_lexer": "ipython3",
   "version": "3.6.9"
  }
 },
 "nbformat": 4,
 "nbformat_minor": 4
}
