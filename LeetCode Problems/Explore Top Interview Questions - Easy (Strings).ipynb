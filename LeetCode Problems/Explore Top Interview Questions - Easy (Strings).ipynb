{
 "cells": [
  {
   "cell_type": "markdown",
   "metadata": {},
   "source": [
    "# Explore Top Interview Questions - Easy (Strings)\n",
    "\n",
    "#344. [Reverse String](#344)"
   ]
  },
  {
   "cell_type": "markdown",
   "metadata": {},
   "source": [
    "<a id='344'></a>\n",
    "## 344. Reverse String\n",
    "\n",
    "#### Write a function that reverses a string. The input string is given as an array of characters char[]. Do not allocate extra space for another array, you must do this by modifying the input array in-place with O(1) extra memory. You may assume all the characters consist of printable ascii characters."
   ]
  },
  {
   "cell_type": "code",
   "execution_count": null,
   "metadata": {},
   "outputs": [],
   "source": [
    "def reverseString(self, s: List[str]) -> None:\n",
    "    \"\"\"\n",
    "    Do not return anything, modify s in-place instead.\n",
    "    \"\"\"\n",
    "    first = 0\n",
    "    last = len(s)-1\n",
    "\n",
    "    while first<last:\n",
    "        temp = s[first]\n",
    "        s[first] = s[last]\n",
    "        s[last] = temp \n",
    "        first += 1\n",
    "        last -= 1"
   ]
  },
  {
   "cell_type": "code",
   "execution_count": null,
   "metadata": {},
   "outputs": [],
   "source": []
  },
  {
   "cell_type": "code",
   "execution_count": null,
   "metadata": {},
   "outputs": [],
   "source": [
    "def reverse(self, x: int) -> int:\n",
    "\n",
    "    sign = 1\n",
    "    if x < 0:\n",
    "        sign = -1\n",
    "    x = x*sign\n",
    "\n",
    "    ans = 0\n",
    "    while(x>0):\n",
    "        q = x % 10\n",
    "        ans = ans*10 + q\n",
    "        x = int(x/10)\n",
    "\n",
    "    res = sign*ans\n",
    "    if res >= 2**31-1 or res <= -2**31:\n",
    "        return 0\n",
    "    return res"
   ]
  },
  {
   "cell_type": "code",
   "execution_count": null,
   "metadata": {},
   "outputs": [],
   "source": []
  },
  {
   "cell_type": "code",
   "execution_count": null,
   "metadata": {},
   "outputs": [],
   "source": [
    "def firstUniqChar(self, s: str) -> int:\n",
    "\n",
    "    l = len(s)\n",
    "    for i in range(l):\n",
    "        if s.count(s[i]) == 1:\n",
    "            return i\n",
    "    return -1"
   ]
  },
  {
   "cell_type": "code",
   "execution_count": null,
   "metadata": {},
   "outputs": [],
   "source": [
    "def firstUniqChar(self, s: str) -> int:\n",
    "\n",
    "    s_dict = {}\n",
    "    for i in s:\n",
    "        if i in s_dict:\n",
    "            s_dict[i] += 1\n",
    "        else:\n",
    "            s_dict[i] = 1\n",
    "\n",
    "    l =len(s)\n",
    "    for i in range(l):\n",
    "        if s_dict[s[i]] == 1:\n",
    "            return i\n",
    "    return -1"
   ]
  },
  {
   "cell_type": "code",
   "execution_count": null,
   "metadata": {},
   "outputs": [],
   "source": []
  },
  {
   "cell_type": "code",
   "execution_count": null,
   "metadata": {},
   "outputs": [],
   "source": [
    "def isAnagram(self, s: str, t: str) -> bool:\n",
    "    s_dict = {}\n",
    "\n",
    "    if len(s) != len(t):\n",
    "        return False\n",
    "\n",
    "    for i in s:\n",
    "        if i in s_dict:\n",
    "            s_dict[i] += 1\n",
    "        else:\n",
    "            s_dict[i] = 1\n",
    "\n",
    "    for j in t:\n",
    "        if (j in s_dict) and (s_dict[j]) > 0:\n",
    "            s_dict[j] -= 1\n",
    "        else:\n",
    "            return False\n",
    "\n",
    "    return True"
   ]
  },
  {
   "cell_type": "code",
   "execution_count": null,
   "metadata": {},
   "outputs": [],
   "source": []
  },
  {
   "cell_type": "code",
   "execution_count": null,
   "metadata": {},
   "outputs": [],
   "source": [
    "def isPalindrome(self, s: str) -> bool:\n",
    "\n",
    "    if not s:\n",
    "        return True\n",
    "\n",
    "    s1 = s.lower()\n",
    "    temp=''\n",
    "    for i in s1:\n",
    "        if i.isalnum():\n",
    "            temp += i\n",
    "\n",
    "    return temp == temp[::-1]"
   ]
  },
  {
   "cell_type": "code",
   "execution_count": null,
   "metadata": {},
   "outputs": [],
   "source": []
  },
  {
   "cell_type": "code",
   "execution_count": null,
   "metadata": {},
   "outputs": [],
   "source": [
    "def myAtoi(self, s: str) -> int:\n",
    "\n",
    "    if len(s) == 0: \n",
    "        return 0\n",
    "\n",
    "    ls = list(s.strip())\n",
    "\n",
    "    if not ls:\n",
    "        return 0\n",
    "\n",
    "    sign = -1 if ls[0] == '-' else 1\n",
    "    if ls[0] in ['-','+'] : del ls[0]\n",
    "    ret, i = 0, 0\n",
    "    while i < len(ls) and ls[i].isdigit() :\n",
    "        ret = ret*10 + ord(ls[i]) - ord('0')\n",
    "        i += 1\n",
    "    return max(-2**31, min(sign * ret,2**31-1))"
   ]
  },
  {
   "cell_type": "code",
   "execution_count": null,
   "metadata": {},
   "outputs": [],
   "source": []
  },
  {
   "cell_type": "code",
   "execution_count": null,
   "metadata": {},
   "outputs": [],
   "source": [
    "def strStr(self, haystack: str, needle: str) -> int:\n",
    "\n",
    "    len_needle = len(needle)\n",
    "    len_haystack = len(haystack)\n",
    "\n",
    "    for i in range(len_haystack-len_needle+1):\n",
    "        if haystack[i:i+len_needle] == needle:\n",
    "            return i\n",
    "\n",
    "    return -1"
   ]
  },
  {
   "cell_type": "code",
   "execution_count": null,
   "metadata": {},
   "outputs": [],
   "source": []
  },
  {
   "cell_type": "code",
   "execution_count": null,
   "metadata": {},
   "outputs": [],
   "source": []
  }
 ],
 "metadata": {
  "kernelspec": {
   "display_name": "Python 3",
   "language": "python",
   "name": "python3"
  },
  "language_info": {
   "codemirror_mode": {
    "name": "ipython",
    "version": 3
   },
   "file_extension": ".py",
   "mimetype": "text/x-python",
   "name": "python",
   "nbconvert_exporter": "python",
   "pygments_lexer": "ipython3",
   "version": "3.6.9"
  }
 },
 "nbformat": 4,
 "nbformat_minor": 4
}
