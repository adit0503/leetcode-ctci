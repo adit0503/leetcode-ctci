{
 "cells": [
  {
   "cell_type": "markdown",
   "metadata": {},
   "source": [
    "# Explore Data Structure : Binary Trees\n",
    "#144. [Binary Tree Preorder Traversal](#144)\n",
    "#94. [Binary Tree Inorder Traversal](#94)\n",
    "#145. [Binary Tree Postorder Traversal](#145)\n",
    "#102. [Binary Tree levelorder Traversal](#102)"
   ]
  },
  {
   "cell_type": "code",
   "execution_count": 1,
   "metadata": {},
   "outputs": [],
   "source": [
    "# Definition for a binary tree node.\n",
    "# class TreeNode:\n",
    "#     def __init__(self, x):\n",
    "#         self.val = x\n",
    "#         self.left = None\n",
    "#         self.right = None"
   ]
  },
  {
   "cell_type": "markdown",
   "metadata": {},
   "source": [
    "<a id='144'></a>\n",
    "## 144. Binary Tree Preorder Traversal\n",
    "#### Given a binary tree, return the preorder traversal of its nodes' values. - N,L,R\n",
    "\n",
    "###### O(n) - Recursive"
   ]
  },
  {
   "cell_type": "code",
   "execution_count": null,
   "metadata": {},
   "outputs": [],
   "source": [
    "class Solution:\n",
    "    \n",
    "    def traverse(self, node: TreeNode, ans: List[int]):\n",
    "        if node:\n",
    "            ans.append(node.val)\n",
    "            self.traverse(node.left,ans)\n",
    "            self.traverse(node.right,ans)\n",
    "    \n",
    "    def preorderTraversal(self, root: TreeNode) -> List[int]:\n",
    "        ans = []\n",
    "        self.traverse(root,ans)\n",
    "        return ans "
   ]
  },
  {
   "cell_type": "markdown",
   "metadata": {},
   "source": [
    "###### O(n) - Iterative"
   ]
  },
  {
   "cell_type": "code",
   "execution_count": null,
   "metadata": {},
   "outputs": [],
   "source": [
    "class Solution:\n",
    "    \n",
    "    def preorderTraversal(self, root: TreeNode) -> List[int]:\n",
    "        stack = [(root,False)]\n",
    "        ans = []\n",
    "        \n",
    "        while stack:\n",
    "            node, visited = stack.pop()\n",
    "            if node:\n",
    "                if visited:\n",
    "                    ans.append(node.val)\n",
    "                else:\n",
    "                    stack.append((node.right,False))\n",
    "                    stack.append((node.left,False))\n",
    "                    stack.append((node,True))\n",
    "        return ans"
   ]
  },
  {
   "cell_type": "markdown",
   "metadata": {},
   "source": [
    "<a id='94'></a>\n",
    "## 94. Binary Tree Inorder Traversal\n",
    "#### Given a binary tree, return the inorder traversal of its nodes' values. - L,N,R\n",
    "\n",
    "###### O(n) - Recursive"
   ]
  },
  {
   "cell_type": "code",
   "execution_count": null,
   "metadata": {},
   "outputs": [],
   "source": [
    "class Solution:\n",
    "    \n",
    "    def traverse(self, node: TreeNode, ans: List[int]):\n",
    "        if node:\n",
    "            self.traverse(node.left,ans)\n",
    "            ans.append(node.val)\n",
    "            self.traverse(node.right,ans)\n",
    "    \n",
    "    def inorderTraversal(self, root: TreeNode) -> List[int]:\n",
    "        ans = []\n",
    "        self.traverse(root,ans)\n",
    "        return ans"
   ]
  },
  {
   "cell_type": "markdown",
   "metadata": {},
   "source": [
    "###### O(n) - Iterative"
   ]
  },
  {
   "cell_type": "code",
   "execution_count": null,
   "metadata": {},
   "outputs": [],
   "source": [
    "class Solution:\n",
    "    \n",
    "    def inorderTraversal(self, root: TreeNode) -> List[int]:\n",
    "        stack = [(root,False)]\n",
    "        ans = []\n",
    "        \n",
    "        while stack:\n",
    "            node, visited = stack.pop()\n",
    "            if node:\n",
    "                if visited:\n",
    "                    ans.append(node.val)\n",
    "                else:\n",
    "                    stack.append((node.right,False))\n",
    "                    stack.append((node,True))\n",
    "                    stack.append((node.left,False))\n",
    "        return ans"
   ]
  },
  {
   "cell_type": "markdown",
   "metadata": {},
   "source": [
    "<a id='145'></a>\n",
    "## 145. Binary Tree Postorder Traversal\n",
    "#### Given a binary tree, return the postorder traversal of its nodes' values. - L,R,N\n",
    "\n",
    "###### O(n) - Recursive"
   ]
  },
  {
   "cell_type": "code",
   "execution_count": null,
   "metadata": {},
   "outputs": [],
   "source": [
    "class Solution:\n",
    "    \n",
    "    def traverse(self, node: TreeNode, ans: List[int]):\n",
    "        if node:\n",
    "            self.traverse(node.left)\n",
    "            self.traverse(node.right)\n",
    "            ans.append(node.val)\n",
    "    \n",
    "    def postorderTraversal(self, root: TreeNode) -> List[int]:\n",
    "        \n",
    "        ans = []\n",
    "        self.traverse(node,ans)\n",
    "        return ans"
   ]
  },
  {
   "cell_type": "markdown",
   "metadata": {},
   "source": [
    "###### O(n) - Iterative"
   ]
  },
  {
   "cell_type": "code",
   "execution_count": null,
   "metadata": {},
   "outputs": [],
   "source": [
    "class Solution:\n",
    "    def postorderTraversal(self, root: TreeNode) -> List[int]:\n",
    "        stack = [(root,False)]\n",
    "        ans = []\n",
    "        \n",
    "        while stack:\n",
    "            node, visited = stack.pop()\n",
    "            if node:\n",
    "                if visited:\n",
    "                    ans.append(node.val)\n",
    "                else:\n",
    "                    stack.append((node,True))\n",
    "                    stack.append((node.right,False))\n",
    "                    stack.append((node.left,False))\n",
    "        return ans"
   ]
  },
  {
   "cell_type": "markdown",
   "metadata": {},
   "source": [
    "<a id='102'></a>\n",
    "## 102. Binary Tree Level Order Traversal\n",
    "\n",
    "#### Given a binary tree, return the level order traversal of its nodes' values. (ie, from left to right, level by level).\n",
    "\n",
    "###### O(n) - Queue DFS using dict"
   ]
  },
  {
   "cell_type": "code",
   "execution_count": null,
   "metadata": {},
   "outputs": [],
   "source": [
    "class Solution:\n",
    "    def levelOrder(self, root: TreeNode) -> List[List[int]]:\n",
    "        ans = []\n",
    "        level_dict = {}\n",
    "        \n",
    "        stack = [(root,0)]\n",
    "        while stack:\n",
    "            node, level = stack.pop(0)\n",
    "            if level not in level_dict.keys():\n",
    "                level_dict[level] = []\n",
    "            if node:\n",
    "                level_dict[level].append(node.val)\n",
    "                stack.append((node.left,level+1))\n",
    "                stack.append((node.right,level+1))\n",
    "                \n",
    "        keys = list(level_dict.keys())\n",
    "        keys.sort()\n",
    "        for k in keys:\n",
    "            if level_dict[k]:\n",
    "                ans.append(level_dict[k])\n",
    "        \n",
    "        return ans"
   ]
  },
  {
   "cell_type": "markdown",
   "metadata": {},
   "source": [
    "###### O(n) - Queue DFS using list of list"
   ]
  },
  {
   "cell_type": "code",
   "execution_count": null,
   "metadata": {},
   "outputs": [],
   "source": [
    "class Solution:\n",
    "    def levelOrder(self, root: TreeNode) -> List[List[int]]:\n",
    "        ans = []\n",
    "\n",
    "        stack = [(root,0)]\n",
    "        while stack:\n",
    "            node, level = stack.pop(0)\n",
    "            if len(ans) <= level:\n",
    "                ans.append([])\n",
    "\n",
    "            if node:\n",
    "                ans[level].append(node.val)\n",
    "                stack.append((node.left,level+1))\n",
    "                stack.append((node.right,level+1))\n",
    "\n",
    "        result = []\n",
    "        for a in ans:\n",
    "            if a:\n",
    "                result.append(a)\n",
    "                \n",
    "        return result"
   ]
  },
  {
   "cell_type": "markdown",
   "metadata": {},
   "source": [
    "###### O(n) - Queue BFS"
   ]
  },
  {
   "cell_type": "code",
   "execution_count": null,
   "metadata": {},
   "outputs": [],
   "source": [
    "class Solution:\n",
    "    def levelOrder(self, root: TreeNode) -> List[List[int]]:\n",
    "        stack = [root]\n",
    "        ans = []\n",
    "        \n",
    "        while stack:\n",
    "            level = []\n",
    "            stack_size = len(stack)\n",
    "            for i in range(stack_size):\n",
    "                node = stack.pop(0)\n",
    "                level.append(node.val)\n",
    "                if node.left:\n",
    "                    stack.append(node.left)\n",
    "                if node.right:\n",
    "                    stack.append(node.right)\n",
    "            ans.append(level)\n",
    "        \n",
    "        return ans  "
   ]
  }
 ],
 "metadata": {
  "kernelspec": {
   "display_name": "Python 3",
   "language": "python",
   "name": "python3"
  },
  "language_info": {
   "codemirror_mode": {
    "name": "ipython",
    "version": 3
   },
   "file_extension": ".py",
   "mimetype": "text/x-python",
   "name": "python",
   "nbconvert_exporter": "python",
   "pygments_lexer": "ipython3",
   "version": "3.6.9"
  }
 },
 "nbformat": 4,
 "nbformat_minor": 4
}
