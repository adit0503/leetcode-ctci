{
 "cells": [
  {
   "cell_type": "markdown",
   "metadata": {},
   "source": [
    "# Explore Data Structure - Hash Table\n",
    "\n",
    "#217. [Contains Duplicate](#217)\n",
    "#136. [Single Number](#136)\n",
    "#349. [Intersection of Two Arrays](#349)\n",
    "#202. [Happy Number](#202)\n",
    "#205. [Isomorphic Strings](#205)\n",
    "#599. [Minimum Index Sum of Two Lists](#599)\n",
    "#350. [Intersection of Two Arrays II](#350)\n",
    "#219. [Contains Duplicate II](#219)"
   ]
  },
  {
   "cell_type": "markdown",
   "metadata": {},
   "source": [
    "<a id='217'></a>\n",
    "## 217. Contains Duplicate\n",
    "\n",
    "#### Given an array of integers, find if the array contains any duplicates.Your function should return true if any value appears at least twice in the array, and it should return false if every element is distinct.\n",
    "\n",
    "###### O(n)"
   ]
  },
  {
   "cell_type": "code",
   "execution_count": null,
   "metadata": {},
   "outputs": [],
   "source": [
    "class Solution:\n",
    "    def containsDuplicate(self, nums: List[int]) -> bool:\n",
    "        \n",
    "        nums_set = set(nums)\n",
    "        if len(nums) == len(nums_set):\n",
    "            return False\n",
    "        return True"
   ]
  },
  {
   "cell_type": "markdown",
   "metadata": {},
   "source": [
    "<a id='136'></a>\n",
    "## 136. Single Number\n",
    "\n",
    "#### Given a non-empty array of integers, every element appears twice except for one. Find that single one. Note: Your algorithm should have a linear runtime complexity. Could you implement it without using extra memory?\n",
    "\n",
    "###### O(n)"
   ]
  },
  {
   "cell_type": "code",
   "execution_count": null,
   "metadata": {},
   "outputs": [],
   "source": [
    "class Solution:\n",
    "    def singleNumber(self, nums: List[int]) -> int:\n",
    "        \n",
    "        nums_set = set(nums)\n",
    "        ans = 2*sum(nums_set) - sum(nums)\n",
    "        return ans"
   ]
  },
  {
   "cell_type": "markdown",
   "metadata": {},
   "source": [
    "<a id='349'></a>\n",
    "## 349. Intersection of Two Arrays\n",
    "\n",
    "#### Given two arrays, write a function to compute their intersection.\n",
    "\n",
    "###### O(n+m)"
   ]
  },
  {
   "cell_type": "code",
   "execution_count": null,
   "metadata": {},
   "outputs": [],
   "source": [
    "class Solution:\n",
    "    def intersection(self, nums1: List[int], nums2: List[int]) -> List[int]:\n",
    "        ans = []\n",
    "        nums1_set = set(nums1)\n",
    "        nums2_set = set(nums2)\n",
    "        \n",
    "        for n in nums2_set:\n",
    "            if n in nums1_set:\n",
    "                ans.append(n)\n",
    "        \n",
    "        return ans"
   ]
  },
  {
   "cell_type": "markdown",
   "metadata": {},
   "source": [
    "<a id='202'></a>\n",
    "## 202. Happy Number\n",
    "\n",
    "#### Write an algorithm to determine if a number is \"happy\". A happy number is a number defined by the following process: Starting with any positive integer, replace the number by the sum of the squares of its digits, and repeat the process until the number equals 1 (where it will stay), or it loops endlessly in a cycle which does not include 1. Those numbers for which this process ends in 1 are happy numbers.\n",
    "\n",
    "###### O(n)"
   ]
  },
  {
   "cell_type": "code",
   "execution_count": null,
   "metadata": {},
   "outputs": [],
   "source": [
    "class Solution:\n",
    "    def digits_list(n):\n",
    "        digits = []\n",
    "        while(n != 0):\n",
    "            digits.append(n%10)\n",
    "            n = n // 10\n",
    "        return digits\n",
    "\n",
    "    def isHappy(self,n: int) -> bool:\n",
    "        temp = set()\n",
    "        while(True):\n",
    "            digits = Solution.digits_list(n)\n",
    "            digits_sum = 0\n",
    "            for i in digits:\n",
    "                digits_sum += i*i\n",
    "            if digits_sum == 1:\n",
    "                return True\n",
    "\n",
    "            if digits_sum  in temp:\n",
    "                return False\n",
    "            temp.add(digits_sum)    \n",
    "            n = digits_sum\n",
    "        return False"
   ]
  },
  {
   "cell_type": "markdown",
   "metadata": {},
   "source": [
    "<a id='205'></a>\n",
    "## 205. Isomorphic Strings\n",
    "#### Given two strings s and t, determine if they are isomorphic. Two strings are isomorphic if the characters in s can be replaced to get t. All occurrences of a character must be replaced with another character while preserving the order of characters. No two characters may map to the same character but a character may map to itself.\n",
    "######"
   ]
  },
  {
   "cell_type": "code",
   "execution_count": null,
   "metadata": {},
   "outputs": [],
   "source": []
  },
  {
   "cell_type": "markdown",
   "metadata": {},
   "source": [
    "<a id='599'></a>\n",
    "## 599. [Minimum Index Sum of Two Lists](https://leetcode.com/problems/minimum-index-sum-of-two-lists/)\n",
    "#### Suppose Andy and Doris want to choose a restaurant for dinner, and they both have a list of favorite restaurants represented by strings. You need to help them find out their common interest with the least list index sum. If there is a choice tie between answers, output all of them with no order requirement. You could assume there always exists an answer.\n",
    "######"
   ]
  },
  {
   "cell_type": "code",
   "execution_count": null,
   "metadata": {},
   "outputs": [],
   "source": []
  },
  {
   "cell_type": "markdown",
   "metadata": {},
   "source": [
    "<a id='387'></a>\n",
    "## 387. [First Unique Character in a String](https://leetcode.com/problems/first-unique-character-in-a-string/)\n",
    "#### Given a string, find the first non-repeating character in it and return it's index. If it doesn't exist, return -1. Note: You may assume the string contain only lowercase letters.\n",
    "###### O(s)"
   ]
  },
  {
   "cell_type": "code",
   "execution_count": null,
   "metadata": {},
   "outputs": [],
   "source": [
    "class Solution:\n",
    "    def firstUniqChar(self, s: str) -> int:\n",
    "        \n",
    "        s_dict = {}\n",
    "        for i in s:\n",
    "            if i in s_dict:\n",
    "                s_dict[i] += 1\n",
    "            else:\n",
    "                s_dict[i] = 1\n",
    "        \n",
    "        l =len(s)\n",
    "        for i in range(l):\n",
    "            if s_dict[s[i]] == 1:\n",
    "                return i\n",
    "        return -1"
   ]
  },
  {
   "cell_type": "markdown",
   "metadata": {},
   "source": [
    "<a id='350'></a>\n",
    "## 350. [Intersection of Two Arrays II](https://leetcode.com/problems/intersection-of-two-arrays-ii/)\n",
    "#### Given two arrays, write a function to compute their intersection.\n",
    "###### O(n)"
   ]
  },
  {
   "cell_type": "code",
   "execution_count": null,
   "metadata": {},
   "outputs": [],
   "source": [
    "class Solution:\n",
    "    def intersect(self, nums1: List[int], nums2: List[int]) -> List[int]:\n",
    "        \n",
    "        count={}\n",
    "        ans = []\n",
    "        for n in nums1:\n",
    "            count[n] = count.get(n,0) + 1\n",
    "        \n",
    "        for n in nums2:\n",
    "            if n in count and count[n]>0:\n",
    "                ans.append(n)\n",
    "                count[n] -= 1\n",
    "        \n",
    "        return ans"
   ]
  },
  {
   "cell_type": "markdown",
   "metadata": {},
   "source": [
    "<a id='219'></a>\n",
    "## 219. [Contains Duplicate II](https://leetcode.com/problems/contains-duplicate-ii/)\n",
    "#### Given an array of integers and an integer k, find out whether there are two distinct indices i and j in the array such that nums[i] = nums[j] and the absolute difference between i and j is at most k.\n",
    "###### O(n)"
   ]
  },
  {
   "cell_type": "code",
   "execution_count": null,
   "metadata": {},
   "outputs": [],
   "source": [
    "class Solution:\n",
    "    \n",
    "    def check(temp,k):\n",
    "        for i in range(len(temp)):\n",
    "            for j in range(i+1,len(temp)):\n",
    "                if temp[j] - temp[i] <= k:\n",
    "                    return True\n",
    "        return False\n",
    "    \n",
    "    def containsNearbyDuplicate(self, nums: List[int], k: int) -> bool:\n",
    "        nums_dict = {}\n",
    "        for i in range(len(nums)):\n",
    "            if nums[i] in nums_dict:\n",
    "                nums_dict[nums[i]].append(i)\n",
    "            else:\n",
    "                nums_dict[nums[i]] = [i]\n",
    "                \n",
    "        for n in nums_dict:\n",
    "            if len(nums_dict[n]) >= 2:\n",
    "                return Solution.check(nums_dict[n],k)\n",
    "        return False"
   ]
  },
  {
   "cell_type": "code",
   "execution_count": null,
   "metadata": {},
   "outputs": [],
   "source": [
    "class Solution:\n",
    "    def containsNearbyDuplicate(self, nums: List[int], k: int) -> bool:\n",
    "        nums_dict = {}\n",
    "        for i,n in enumerate(nums):\n",
    "            if n in nums_dict and i - nums_dict[n] <= k:\n",
    "                return True\n",
    "            nums_dict[n] = i\n",
    "        return False"
   ]
  },
  {
   "cell_type": "code",
   "execution_count": null,
   "metadata": {},
   "outputs": [],
   "source": [
    "<a id=''></a>\n",
    "##\n",
    "####\n",
    "######"
   ]
  },
  {
   "cell_type": "code",
   "execution_count": null,
   "metadata": {},
   "outputs": [],
   "source": []
  },
  {
   "cell_type": "code",
   "execution_count": null,
   "metadata": {},
   "outputs": [],
   "source": [
    "<a id=''></a>\n",
    "##\n",
    "####\n",
    "######"
   ]
  },
  {
   "cell_type": "code",
   "execution_count": null,
   "metadata": {},
   "outputs": [],
   "source": []
  },
  {
   "cell_type": "code",
   "execution_count": null,
   "metadata": {},
   "outputs": [],
   "source": [
    "<a id=''></a>\n",
    "##\n",
    "####\n",
    "######"
   ]
  },
  {
   "cell_type": "code",
   "execution_count": null,
   "metadata": {},
   "outputs": [],
   "source": []
  },
  {
   "cell_type": "code",
   "execution_count": null,
   "metadata": {},
   "outputs": [],
   "source": [
    "<a id=''></a>\n",
    "##\n",
    "####\n",
    "######"
   ]
  },
  {
   "cell_type": "code",
   "execution_count": null,
   "metadata": {},
   "outputs": [],
   "source": []
  },
  {
   "cell_type": "code",
   "execution_count": null,
   "metadata": {},
   "outputs": [],
   "source": [
    "<a id=''></a>\n",
    "##\n",
    "####\n",
    "######"
   ]
  },
  {
   "cell_type": "code",
   "execution_count": null,
   "metadata": {},
   "outputs": [],
   "source": []
  },
  {
   "cell_type": "code",
   "execution_count": null,
   "metadata": {},
   "outputs": [],
   "source": [
    "<a id=''></a>\n",
    "##\n",
    "####\n",
    "######"
   ]
  }
 ],
 "metadata": {
  "kernelspec": {
   "display_name": "Python 3",
   "language": "python",
   "name": "python3"
  },
  "language_info": {
   "codemirror_mode": {
    "name": "ipython",
    "version": 3
   },
   "file_extension": ".py",
   "mimetype": "text/x-python",
   "name": "python",
   "nbconvert_exporter": "python",
   "pygments_lexer": "ipython3",
   "version": "3.6.9"
  }
 },
 "nbformat": 4,
 "nbformat_minor": 4
}
