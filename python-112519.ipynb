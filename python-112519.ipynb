{
 "cells": [
  {
   "cell_type": "code",
   "execution_count": null,
   "metadata": {},
   "outputs": [],
   "source": [
    "print(\"hello World\")\n",
    "\n",
    "'''\n",
    "range(start, stop, step)\n",
    "return types int,float,str,bool,list,dict\n",
    "for i in x: count_x[i] = count_x.get(i,0) + 1 => dict count initialization\n",
    "'''"
   ]
  },
  {
   "cell_type": "code",
   "execution_count": null,
   "metadata": {},
   "outputs": [],
   "source": [
    "#O(n)\n",
    "def isPrime(n):\n",
    "    if n <= 1 :\n",
    "        return False\n",
    "    \n",
    "    for i in range(2,n):\n",
    "        if n%i == 0:\n",
    "            return False\n",
    "    return True\n",
    "\n",
    "n = int(input())\n",
    "ans = isPrime(n)\n",
    "print(ans)"
   ]
  },
  {
   "cell_type": "code",
   "execution_count": 1,
   "metadata": {},
   "outputs": [
    {
     "name": "stdout",
     "output_type": "stream",
     "text": [
      "4\n",
      "False\n"
     ]
    }
   ],
   "source": [
    "#O(√n)\n",
    "def isPrime(n):\n",
    "    if n <= 1:\n",
    "        return False\n",
    "    \n",
    "    if n <= 3:\n",
    "        return True\n",
    "    \n",
    "    if (n % 2 == 0 or n % 3 == 0) : \n",
    "        return False\n",
    "        \n",
    "    i = 5\n",
    "    while(i * i <= n) : \n",
    "        if (n % i == 0 or n % (i + 2) == 0) : \n",
    "            return False\n",
    "        i = i + 6\n",
    "  \n",
    "    return True\n",
    "\n",
    "n=int(input())\n",
    "ans = isPrime(n)\n",
    "print(ans)"
   ]
  },
  {
   "cell_type": "code",
   "execution_count": null,
   "metadata": {},
   "outputs": [],
   "source": [
    "#O(n*log(log(n)))\n",
    "def findPrime(n):\n",
    "    list1 = [True for i in range(n+1)]\n",
    "    list1[0] = False\n",
    "    list1[1] = False\n",
    "    p = 2\n",
    "    while(p*p <= n):\n",
    "        if list1[p] == True:\n",
    "            for i in range(p*p,n+1,p):\n",
    "                list1[i] = False\n",
    "        p += 1\n",
    "        \n",
    "    for i in range(2,n+1):\n",
    "        if list1[i] == True:\n",
    "            print(i, end=\" \")\n",
    "    \n",
    "n = int(input())\n",
    "findPrime(n)"
   ]
  },
  {
   "cell_type": "code",
   "execution_count": null,
   "metadata": {},
   "outputs": [],
   "source": [
    "#O(n2)\n",
    "def isPrime(n):\n",
    "    if n <= 1:\n",
    "        return False\n",
    "    \n",
    "    for i in range(2,n):\n",
    "        if n%i == 0:\n",
    "            return False\n",
    "    return True\n",
    "\n",
    "n = int(input())\n",
    "for i in range(n+1):\n",
    "    if isPrime(i):\n",
    "        print(i,end=\" \")"
   ]
  },
  {
   "cell_type": "code",
   "execution_count": null,
   "metadata": {},
   "outputs": [],
   "source": []
  },
  {
   "cell_type": "code",
   "execution_count": null,
   "metadata": {},
   "outputs": [],
   "source": []
  },
  {
   "cell_type": "code",
   "execution_count": null,
   "metadata": {},
   "outputs": [],
   "source": [
    "#HackerEarth\n",
    "def seatingArrangement(n):\n",
    "    if n%12 != 0:\n",
    "        x = int(n/12) + 1\n",
    "    else:\n",
    "        x = int(n/12)\n",
    "    opp_seat_away = 11 - (12*x - n)\n",
    "    opp_seat = 12*x - opp_seat_away\n",
    "    WS = [0,5,6,11]\n",
    "    MS = [1,4,7,10]\n",
    "    AS = [2,3,8,9]\n",
    "    if opp_seat_away in WS:\n",
    "        print(opp_seat,\"WS\")\n",
    "    if opp_seat_away in MS:\n",
    "        print(opp_seat,\"MS\")\n",
    "    if opp_seat_away in AS:\n",
    "        print(opp_seat,\"AS\")\n",
    "\n",
    "n = int(input())\n",
    "seatingArrangement(n)"
   ]
  },
  {
   "cell_type": "code",
   "execution_count": null,
   "metadata": {},
   "outputs": [],
   "source": [
    "#HackerEarth\n",
    "def zoos(s):\n",
    "    z = 0\n",
    "    o = 0\n",
    "    for i in s:\n",
    "        if i == \"z\":\n",
    "            z += 1\n",
    "        else:\n",
    "            o += 1\n",
    "    if 2*z == o:\n",
    "        print(\"Yes\")\n",
    "    else:\n",
    "        print(\"No\")\n",
    "s = input()\n",
    "zoos(s)"
   ]
  },
  {
   "cell_type": "code",
   "execution_count": null,
   "metadata": {},
   "outputs": [],
   "source": [
    "import cmath\n",
    "\n",
    "n = input()\n",
    "if n[0] == '-':\n",
    "    x = float(n[1])*-1.0\n",
    "    if n[2] == '-':\n",
    "        y = float(n[3])*-1.0\n",
    "    else:\n",
    "        y = float(n[3])\n",
    "else:\n",
    "    x = float(n[0])\n",
    "    if n[1] == '-':\n",
    "        y = float(n[2])*-1.0\n",
    "    else:\n",
    "        y = float(n[2])\n",
    "print(round(abs(complex(x,y)),3))\n",
    "print(round(cmath.phase(complex(x,y)),3))"
   ]
  },
  {
   "cell_type": "code",
   "execution_count": 7,
   "metadata": {},
   "outputs": [
    {
     "name": "stdout",
     "output_type": "stream",
     "text": [
      "abcd\n",
      "bcda\n",
      "Yes\n"
     ]
    }
   ],
   "source": [
    "#O(n) - Leetcode #242 : Valid Anagram\n",
    "def printDict(d):\n",
    "    for x in d:\n",
    "        print(x,d.get(x))\n",
    "        \n",
    "def countList(x) -> dict:\n",
    "    count_x = {}\n",
    "    for i in x:\n",
    "        count_x[i] = count_x.get(i,0) + 1\n",
    "    return count_x\n",
    "\n",
    "def checkAnagram(s,t) -> bool:\n",
    "    if len(s) != len(t):\n",
    "        return False\n",
    "    \n",
    "    count_s = countList(list(s))\n",
    "    count_t = countList(list(t))\n",
    "    \n",
    "    for i in t:\n",
    "        if count_t.get(i) != count_s.get(i):\n",
    "            return False\n",
    "    return True\n",
    "    \n",
    "s = input()\n",
    "t = input()\n",
    "if checkAnagram(s,t):\n",
    "    print(\"Yes\")\n",
    "else:\n",
    "    print(\"No\")"
   ]
  },
  {
   "cell_type": "code",
   "execution_count": 10,
   "metadata": {},
   "outputs": [
    {
     "name": "stdout",
     "output_type": "stream",
     "text": [
      "asdf\n",
      "fdgh\n",
      "No\n"
     ]
    }
   ],
   "source": [
    "#O(n), less memory - Leetcode #242 : Valid Anagram\n",
    "def checkAnagram(s,t) -> bool:\n",
    "    count = {}\n",
    "    for i in t:\n",
    "        count[i] = count.get(i,0) + 1\n",
    "    for i in s:\n",
    "        count[i] = count.get(i,0) - 1\n",
    "    \n",
    "    for i in count:\n",
    "        if count.get(i) != 0:\n",
    "            return False\n",
    "    return True\n",
    "\n",
    "s = input()\n",
    "t = input()\n",
    "if checkAnagram(s,t):\n",
    "    print(\"Yes\")\n",
    "else:\n",
    "    print(\"No\")"
   ]
  },
  {
   "cell_type": "code",
   "execution_count": 26,
   "metadata": {},
   "outputs": [
    {
     "name": "stdout",
     "output_type": "stream",
     "text": [
      "abcde\n",
      "cdefg\n",
      "4\n"
     ]
    }
   ],
   "source": [
    "#HackerEarth\n",
    "def charDeleteAnagram(s,t) -> int:\n",
    "    count = {}\n",
    "    for i in s:\n",
    "        count[i] = count.get(i,0) + 1\n",
    "    for i in t:\n",
    "        count[i] = count.get(i,0) - 1\n",
    "        \n",
    "    ans = 0\n",
    "    for i in count:\n",
    "        ans += abs(count[i])\n",
    "        \n",
    "    return ans\n",
    "        \n",
    "s = input()\n",
    "t = input()\n",
    "result = charDeleteAnagram(s,t)\n",
    "print(result)"
   ]
  },
  {
   "cell_type": "code",
   "execution_count": 54,
   "metadata": {},
   "outputs": [
    {
     "name": "stdout",
     "output_type": "stream",
     "text": [
      "10\n",
      "4\n"
     ]
    }
   ],
   "source": [
    "#O(n*log(log(n))) - Leetcode #204 : Count Primes\n",
    "def isPrime3(n) -> list:\n",
    "    prime = [True for i in range(n+1)]\n",
    "    prime[0] = False\n",
    "    prime[1] = False\n",
    "\n",
    "    p=2\n",
    "    while(p*p <= n):\n",
    "        for i in range(p*p,n+1,p):\n",
    "            prime[i] = False\n",
    "        p += 1\n",
    "    prime[n] = False\n",
    "    return prime\n",
    "\n",
    "n=int(input())\n",
    "count = 0\n",
    "result = isPrime3(n)\n",
    "for i in result:\n",
    "    if i == True:\n",
    "        count += 1\n",
    "print(count)"
   ]
  },
  {
   "cell_type": "code",
   "execution_count": 36,
   "metadata": {},
   "outputs": [
    {
     "name": "stdout",
     "output_type": "stream",
     "text": [
      "12343\n",
      "['1', '2', '3', '4', '3']\n",
      "3\n"
     ]
    }
   ],
   "source": [
    "#O(n) with dict - Leetcode #287 : Find the Duplicate Number\n",
    "def findDuplicate(nums) -> int:\n",
    "    count = {}\n",
    "    for i in nums:\n",
    "        count[i] = count.get(i,0) + 1\n",
    "        if count[i] > 1:\n",
    "            return i\n",
    "    \n",
    "n = input()\n",
    "n_list = []\n",
    "for i in n:\n",
    "    n_list.append(i)\n",
    "print(n_list)\n",
    "ans = findDuplicate(n_list)   \n",
    "print(ans)"
   ]
  },
  {
   "cell_type": "code",
   "execution_count": 37,
   "metadata": {},
   "outputs": [
    {
     "name": "stdout",
     "output_type": "stream",
     "text": [
      "12342\n",
      "['1', '2', '3', '4', '2']\n",
      "2\n"
     ]
    }
   ],
   "source": [
    "#O(nlogn) - Leetcode #287 : Find the Duplicate Number\n",
    "def findDuplicateSort(nums) -> int:\n",
    "    nums.sort() #O(nlogn)\n",
    "    for i in range(len(nums)):\n",
    "        if nums[i] == nums[i+1]:\n",
    "            return nums[i]\n",
    "\n",
    "n = input()\n",
    "n_list = []\n",
    "for i in n:\n",
    "    n_list.append(i)\n",
    "print(n_list)\n",
    "ans = findDuplicateSort(n_list)   \n",
    "print(ans)"
   ]
  },
  {
   "cell_type": "code",
   "execution_count": 39,
   "metadata": {},
   "outputs": [
    {
     "name": "stdout",
     "output_type": "stream",
     "text": [
      "13422\n",
      "['1', '3', '4', '2', '2']\n",
      "2\n"
     ]
    }
   ],
   "source": [
    "#O(n) with set - Leetcode #287 : Find the Duplicate Number\n",
    "def findDuplicateSet(nums) -> int:\n",
    "    s = set()\n",
    "    for n in nums:\n",
    "        if n in s:\n",
    "            return n\n",
    "        s.add(n)\n",
    "\n",
    "n = input()\n",
    "n_list = []\n",
    "for i in n:\n",
    "    n_list.append(i)\n",
    "print(n_list)\n",
    "ans = findDuplicateSet(n_list)   \n",
    "print(ans)"
   ]
  },
  {
   "cell_type": "code",
   "execution_count": 5,
   "metadata": {},
   "outputs": [
    {
     "name": "stdout",
     "output_type": "stream",
     "text": [
      "76431\n",
      "[7, 6, 4, 3, 1]\n",
      "0\n"
     ]
    }
   ],
   "source": [
    "#O(n2) - Leetcode #121 : Best Time to Buy and Sell Stock\n",
    "def maxProfit(prices) -> int:\n",
    "    max_p = 0\n",
    "    for i in range(len(prices)):\n",
    "        for j in range(i+1,len(prices)):\n",
    "            if prices[j]-prices[i] > max_p:\n",
    "                max_p = prices[j]-prices[i]\n",
    "    return max_p\n",
    "\n",
    "n = input()\n",
    "n_list = []\n",
    "for i in n:\n",
    "    n_list.append(int(i))\n",
    "print(n_list)\n",
    "ans = maxProfit(n_list)   \n",
    "print(ans)"
   ]
  },
  {
   "cell_type": "code",
   "execution_count": 6,
   "metadata": {},
   "outputs": [
    {
     "name": "stdout",
     "output_type": "stream",
     "text": [
      "76431\n",
      "[7, 6, 4, 3, 1]\n",
      "0\n"
     ]
    }
   ],
   "source": [
    "#O(n) - Leetcode #121 : Best Time to Buy and Sell Stock\n",
    "import sys\n",
    "def maxProfit(prices) -> int:\n",
    "    maxprofit = 0\n",
    "    minprice = sys.maxsize\n",
    "    for i in range(len(prices)):\n",
    "        if prices[i] < minprice:\n",
    "            minprice = prices[i]\n",
    "        if prices[i]-minprice > maxprofit:\n",
    "            maxprofit = prices[i]-minprice\n",
    "    return maxprofit\n",
    "\n",
    "n = input()\n",
    "n_list = []\n",
    "for i in n:\n",
    "    n_list.append(int(i))\n",
    "print(n_list)\n",
    "ans = maxProfit(n_list)   \n",
    "print(ans)"
   ]
  },
  {
   "cell_type": "code",
   "execution_count": 22,
   "metadata": {},
   "outputs": [
    {
     "name": "stdout",
     "output_type": "stream",
     "text": [
      "214797179\n",
      "False\n"
     ]
    }
   ],
   "source": [
    "#O(n*√n) - Leetcode #263 : Ugly Number\n",
    "def isPrime(n) -> bool:\n",
    "    if n <= 1:\n",
    "        return False\n",
    "    if n <= 3:\n",
    "        return True\n",
    "    if n%2 == 0 or n%3 == 0:\n",
    "        return False\n",
    "    i=5\n",
    "    while(i*i <= n):\n",
    "        if n%i == 0 or n%(i+2) == 0:\n",
    "            return False\n",
    "        i += 6\n",
    "    return True\n",
    "\n",
    "def isUgly(num) -> bool:\n",
    "    if num <= 0:\n",
    "        return False\n",
    "    \n",
    "    if num == 1:\n",
    "        return True\n",
    "    \n",
    "    factors =[]\n",
    "    for i in range(2,num+1):\n",
    "        if num%i == 0 and isPrime(i):\n",
    "            factors.append(i)\n",
    "    \n",
    "    pfactors = [2,3,5]\n",
    "    for i in factors:\n",
    "        if i not in pfactors:\n",
    "            return False\n",
    "    return True\n",
    "    \n",
    "n = int(input())\n",
    "ans = isUgly(n)\n",
    "print(ans)"
   ]
  },
  {
   "cell_type": "code",
   "execution_count": 39,
   "metadata": {},
   "outputs": [
    {
     "name": "stdout",
     "output_type": "stream",
     "text": [
      "A man, a plan, a canal: Panama\n",
      "True\n"
     ]
    }
   ],
   "source": [
    "#O(n) - Leetcode #125 : Valid Palindrome\n",
    "def isPalindrome(s) -> bool:\n",
    "    if s == \" \":\n",
    "        return True\n",
    "    \n",
    "    low = 0\n",
    "    high = len(s)-1\n",
    "    \n",
    "    while(low<high):\n",
    "        if s[low] != s[high]:\n",
    "            return False\n",
    "        low += 1\n",
    "        high -= 1\n",
    "    return True\n",
    "\n",
    "s = input()\n",
    "ss = \"\"\n",
    "for i in s:\n",
    "    if i.isalnum():\n",
    "        ss += i\n",
    "print(isPalindrome(ss.lower()))"
   ]
  },
  {
   "cell_type": "code",
   "execution_count": null,
   "metadata": {},
   "outputs": [],
   "source": []
  },
  {
   "cell_type": "code",
   "execution_count": null,
   "metadata": {},
   "outputs": [],
   "source": []
  }
 ],
 "metadata": {
  "kernelspec": {
   "display_name": "Python 3",
   "language": "python",
   "name": "python3"
  },
  "language_info": {
   "codemirror_mode": {
    "name": "ipython",
    "version": 3
   },
   "file_extension": ".py",
   "mimetype": "text/x-python",
   "name": "python",
   "nbconvert_exporter": "python",
   "pygments_lexer": "ipython3",
   "version": "3.6.9"
  }
 },
 "nbformat": 4,
 "nbformat_minor": 2
}
